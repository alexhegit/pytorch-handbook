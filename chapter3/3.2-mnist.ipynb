{
 "cells": [
  {
   "cell_type": "code",
   "execution_count": 1,
   "metadata": {
    "ExecuteTime": {
     "end_time": "2020-01-28T03:58:12.833552Z",
     "start_time": "2020-01-28T03:58:12.538268Z"
    }
   },
   "outputs": [
    {
     "data": {
      "text/plain": [
       "'1.4.0'"
      ]
     },
     "execution_count": 1,
     "metadata": {},
     "output_type": "execute_result"
    }
   ],
   "source": [
    "import torch\n",
    "import torch.nn as nn\n",
    "import torch.nn.functional as F\n",
    "import torch.optim as optim\n",
    "from torchvision import datasets, transforms\n",
    "torch.__version__"
   ]
  },
  {
   "cell_type": "markdown",
   "metadata": {},
   "source": [
    "# 3.2  MNIST数据集手写数字识别\n",
    "\n",
    "## 3.2.1  数据集介绍\n",
    "MNIST 包括6万张28x28的训练样本，1万张测试样本，很多教程都会对它”下手”几乎成为一个 “典范”，可以说它就是计算机视觉里面的Hello World。所以我们这里也会使用MNIST来进行实战。\n",
    "\n",
    "前面在介绍卷积神经网络的时候说到过LeNet-5，LeNet-5之所以强大就是因为在当时的环境下将MNIST数据的识别率提高到了99%，这里我们也自己从头搭建一个卷积神经网络，也达到99%的准确率"
   ]
  },
  {
   "cell_type": "markdown",
   "metadata": {},
   "source": [
    "## 3.2.2 手写数字识别\n",
    "首先，我们定义一些超参数"
   ]
  },
  {
   "cell_type": "code",
   "execution_count": 2,
   "metadata": {
    "ExecuteTime": {
     "end_time": "2020-01-28T03:58:12.841308Z",
     "start_time": "2020-01-28T03:58:12.834934Z"
    }
   },
   "outputs": [],
   "source": [
    "# BATCH_SIZE=512 #大概需要2G的显存\n",
    "BATCH_SIZE=4096\n",
    "EPOCHS=20 # 总共训练批次\n",
    "DEVICE = torch.device(\"cuda\" if torch.cuda.is_available() else \"cpu\") # 让torch判断是否使用GPU，建议使用GPU环境，因为会快很多"
   ]
  },
  {
   "cell_type": "markdown",
   "metadata": {},
   "source": [
    "因为Pytorch里面包含了MNIST的数据集，所以我们这里直接使用即可。\n",
    "如果第一次执行会生成data文件夹，并且需要一些时间下载，如果以前下载过就不会再次下载了\n",
    "\n",
    "由于官方已经实现了dataset，所以这里可以直接使用DataLoader来对数据进行读取"
   ]
  },
  {
   "cell_type": "code",
   "execution_count": 3,
   "metadata": {
    "ExecuteTime": {
     "end_time": "2020-01-28T03:58:12.861582Z",
     "start_time": "2020-01-28T03:58:12.842818Z"
    }
   },
   "outputs": [],
   "source": [
    "train_loader = torch.utils.data.DataLoader(\n",
    "        datasets.MNIST('data', train=True, download=True, \n",
    "                       transform=transforms.Compose([\n",
    "                           transforms.ToTensor(),\n",
    "                           transforms.Normalize((0.1307,), (0.3081,))\n",
    "                       ])),\n",
    "        batch_size=BATCH_SIZE, shuffle=True)"
   ]
  },
  {
   "cell_type": "markdown",
   "metadata": {},
   "source": [
    "测试集"
   ]
  },
  {
   "cell_type": "code",
   "execution_count": 4,
   "metadata": {
    "ExecuteTime": {
     "end_time": "2020-01-28T03:58:12.868706Z",
     "start_time": "2020-01-28T03:58:12.862510Z"
    }
   },
   "outputs": [],
   "source": [
    "test_loader = torch.utils.data.DataLoader(\n",
    "        datasets.MNIST('data', train=False, transform=transforms.Compose([\n",
    "                           transforms.ToTensor(),\n",
    "                           transforms.Normalize((0.1307,), (0.3081,))\n",
    "                       ])),\n",
    "        batch_size=BATCH_SIZE, shuffle=True)"
   ]
  },
  {
   "cell_type": "markdown",
   "metadata": {},
   "source": [
    "下面我们定义一个网络，网络包含两个卷积层，conv1和conv2，然后紧接着两个线性层作为输出，最后输出10个维度，这10个维度我们作为0-9的标识来确定识别出的是那个数字\n",
    "\n",
    "在这里建议大家将每一层的输入和输出维度都作为注释标注出来，这样后面阅读代码的会方便很多"
   ]
  },
  {
   "cell_type": "code",
   "execution_count": 5,
   "metadata": {
    "ExecuteTime": {
     "end_time": "2020-01-28T03:58:12.874963Z",
     "start_time": "2020-01-28T03:58:12.870040Z"
    }
   },
   "outputs": [],
   "source": [
    "class ConvNet(nn.Module):\n",
    "    def __init__(self):\n",
    "        super().__init__()\n",
    "        # 1,28x28\n",
    "        self.conv1=nn.Conv2d(1,10,5) # 10, 24x24\n",
    "        self.conv2=nn.Conv2d(10,20,3) # 20, 10x10\n",
    "        self.fc1 = nn.Linear(20*10*10,500)\n",
    "        self.fc2 = nn.Linear(500,10)\n",
    "    def forward(self,x):\n",
    "        in_size = x.size(0) # BATCHSIZE\n",
    "        out = self.conv1(x) #24\n",
    "        out = F.relu(out)\n",
    "        out = F.max_pool2d(out, 2, 2)  #12\n",
    "        out = self.conv2(out) #10\n",
    "        out = F.relu(out)\n",
    "        out = out.view(in_size,-1) # flaten layer\n",
    "        out = self.fc1(out)\n",
    "        out = F.relu(out)\n",
    "        out = self.fc2(out)\n",
    "        out = F.log_softmax(out,dim=1)\n",
    "        return out"
   ]
  },
  {
   "cell_type": "markdown",
   "metadata": {},
   "source": [
    "我们实例化一个网络，实例化后使用.to方法将网络移动到GPU\n",
    "\n",
    "优化器我们也直接选择简单暴力的Adam"
   ]
  },
  {
   "cell_type": "code",
   "execution_count": 6,
   "metadata": {
    "ExecuteTime": {
     "end_time": "2020-01-28T03:58:13.965581Z",
     "start_time": "2020-01-28T03:58:12.875971Z"
    }
   },
   "outputs": [],
   "source": [
    "model = ConvNet().to(DEVICE)\n",
    "optimizer = optim.Adam(model.parameters())"
   ]
  },
  {
   "cell_type": "markdown",
   "metadata": {},
   "source": [
    "下面定义一下训练的函数，我们将训练的所有操作都封装到这个函数中"
   ]
  },
  {
   "cell_type": "code",
   "execution_count": 7,
   "metadata": {
    "ExecuteTime": {
     "end_time": "2020-01-28T03:58:13.971459Z",
     "start_time": "2020-01-28T03:58:13.967183Z"
    }
   },
   "outputs": [],
   "source": [
    "def train(model, device, train_loader, optimizer, epoch):\n",
    "    model.train()\n",
    "    for batch_idx, (data, target) in enumerate(train_loader):\n",
    "        data, target = data.to(device), target.to(device)\n",
    "        optimizer.zero_grad()\n",
    "        output = model(data)\n",
    "        loss = F.nll_loss(output, target)\n",
    "        loss.backward()\n",
    "        optimizer.step()\n",
    "\n",
    "        if(batch_idx+1)%5 == 0: \n",
    "            print('Train Epoch: {} [{}/{} ({:.0f}%)]\\tLoss: {:.6f}'.format(\n",
    "                epoch, batch_idx * BATCH_SIZE + len(data), len(train_loader.dataset),\n",
    "                100. * batch_idx / len(train_loader), loss.item()))"
   ]
  },
  {
   "cell_type": "markdown",
   "metadata": {},
   "source": [
    "测试的操作也一样封装成一个函数"
   ]
  },
  {
   "cell_type": "code",
   "execution_count": 8,
   "metadata": {
    "ExecuteTime": {
     "end_time": "2020-01-28T03:58:14.010564Z",
     "start_time": "2020-01-28T03:58:13.972936Z"
    }
   },
   "outputs": [],
   "source": [
    "def test(model, device, test_loader):\n",
    "    model.eval()\n",
    "    test_loss = 0\n",
    "    correct = 0\n",
    "    with torch.no_grad():\n",
    "        for data, target in test_loader:\n",
    "            data, target = data.to(device), target.to(device)\n",
    "            output = model(data)\n",
    "            test_loss += F.nll_loss(output, target, reduction='sum').item() # 将一批的损失相加\n",
    "            pred = output.max(1, keepdim=True)[1] # 找到概率最大的下标\n",
    "            correct += pred.eq(target.view_as(pred)).sum().item()\n",
    "\n",
    "    test_loss /= len(test_loader.dataset)\n",
    "    print('\\nTest set: Average loss: {:.4f}, Accuracy: {}/{} ({:.0f}%)\\n'.format(\n",
    "        test_loss, correct, len(test_loader.dataset),\n",
    "        100. * correct / len(test_loader.dataset)))\n"
   ]
  },
  {
   "cell_type": "markdown",
   "metadata": {},
   "source": [
    "下面开始训练，这里就体现出封装起来的好处了，只要写两行就可以了"
   ]
  },
  {
   "cell_type": "code",
   "execution_count": null,
   "metadata": {
    "ExecuteTime": {
     "start_time": "2020-01-28T03:58:12.543Z"
    },
    "scrolled": true
   },
   "outputs": [
    {
     "name": "stdout",
     "output_type": "stream",
     "text": [
      "Train Epoch: 1 [20480/60000 (27%)]\tLoss: 1.253843\n",
      "Train Epoch: 1 [40960/60000 (60%)]\tLoss: 0.523659\n",
      "Train Epoch: 1 [60000/60000 (93%)]\tLoss: 0.388740\n",
      "\n",
      "Test set: Average loss: 0.3532, Accuracy: 8970/10000 (90%)\n",
      "\n",
      "Train Epoch: 2 [20480/60000 (27%)]\tLoss: 0.324142\n",
      "Train Epoch: 2 [40960/60000 (60%)]\tLoss: 0.294479\n",
      "Train Epoch: 2 [60000/60000 (93%)]\tLoss: 0.251974\n",
      "\n",
      "Test set: Average loss: 0.2291, Accuracy: 9334/10000 (93%)\n",
      "\n",
      "Train Epoch: 3 [20480/60000 (27%)]\tLoss: 0.231053\n",
      "Train Epoch: 3 [40960/60000 (60%)]\tLoss: 0.214021\n",
      "Train Epoch: 3 [60000/60000 (93%)]\tLoss: 0.155660\n",
      "\n",
      "Test set: Average loss: 0.1562, Accuracy: 9543/10000 (95%)\n",
      "\n",
      "Train Epoch: 4 [20480/60000 (27%)]\tLoss: 0.153532\n",
      "Train Epoch: 4 [40960/60000 (60%)]\tLoss: 0.136534\n",
      "Train Epoch: 4 [60000/60000 (93%)]\tLoss: 0.115455\n",
      "\n",
      "Test set: Average loss: 0.1173, Accuracy: 9662/10000 (97%)\n",
      "\n",
      "Train Epoch: 5 [20480/60000 (27%)]\tLoss: 0.116867\n",
      "Train Epoch: 5 [40960/60000 (60%)]\tLoss: 0.118554\n",
      "Train Epoch: 5 [60000/60000 (93%)]\tLoss: 0.082086\n",
      "\n",
      "Test set: Average loss: 0.0875, Accuracy: 9751/10000 (98%)\n",
      "\n",
      "Train Epoch: 6 [20480/60000 (27%)]\tLoss: 0.091884\n",
      "Train Epoch: 6 [40960/60000 (60%)]\tLoss: 0.077332\n",
      "Train Epoch: 6 [60000/60000 (93%)]\tLoss: 0.084942\n",
      "\n",
      "Test set: Average loss: 0.0744, Accuracy: 9782/10000 (98%)\n",
      "\n",
      "Train Epoch: 7 [20480/60000 (27%)]\tLoss: 0.086024\n",
      "Train Epoch: 7 [40960/60000 (60%)]\tLoss: 0.072488\n",
      "Train Epoch: 7 [60000/60000 (93%)]\tLoss: 0.070945\n",
      "\n",
      "Test set: Average loss: 0.0620, Accuracy: 9820/10000 (98%)\n",
      "\n",
      "Train Epoch: 8 [20480/60000 (27%)]\tLoss: 0.071767\n",
      "Train Epoch: 8 [40960/60000 (60%)]\tLoss: 0.078402\n",
      "Train Epoch: 8 [60000/60000 (93%)]\tLoss: 0.069514\n",
      "\n",
      "Test set: Average loss: 0.0605, Accuracy: 9812/10000 (98%)\n",
      "\n",
      "Train Epoch: 9 [20480/60000 (27%)]\tLoss: 0.049634\n",
      "Train Epoch: 9 [40960/60000 (60%)]\tLoss: 0.056463\n",
      "Train Epoch: 9 [60000/60000 (93%)]\tLoss: 0.060756\n",
      "\n",
      "Test set: Average loss: 0.0550, Accuracy: 9828/10000 (98%)\n",
      "\n",
      "Train Epoch: 10 [20480/60000 (27%)]\tLoss: 0.056126\n",
      "Train Epoch: 10 [40960/60000 (60%)]\tLoss: 0.056583\n",
      "Train Epoch: 10 [60000/60000 (93%)]\tLoss: 0.049423\n",
      "\n",
      "Test set: Average loss: 0.0509, Accuracy: 9847/10000 (98%)\n",
      "\n",
      "Train Epoch: 11 [20480/60000 (27%)]\tLoss: 0.049080\n",
      "Train Epoch: 11 [40960/60000 (60%)]\tLoss: 0.058339\n",
      "Train Epoch: 11 [60000/60000 (93%)]\tLoss: 0.046663\n",
      "\n",
      "Test set: Average loss: 0.0448, Accuracy: 9860/10000 (99%)\n",
      "\n",
      "Train Epoch: 12 [20480/60000 (27%)]\tLoss: 0.047904\n",
      "Train Epoch: 12 [40960/60000 (60%)]\tLoss: 0.037610\n",
      "Train Epoch: 12 [60000/60000 (93%)]\tLoss: 0.041494\n",
      "\n",
      "Test set: Average loss: 0.0441, Accuracy: 9855/10000 (99%)\n",
      "\n",
      "Train Epoch: 13 [20480/60000 (27%)]\tLoss: 0.043273\n",
      "Train Epoch: 13 [40960/60000 (60%)]\tLoss: 0.039708\n",
      "Train Epoch: 13 [60000/60000 (93%)]\tLoss: 0.050079\n",
      "\n",
      "Test set: Average loss: 0.0481, Accuracy: 9845/10000 (98%)\n",
      "\n",
      "Train Epoch: 14 [20480/60000 (27%)]\tLoss: 0.038963\n",
      "Train Epoch: 14 [40960/60000 (60%)]\tLoss: 0.041425\n",
      "Train Epoch: 14 [60000/60000 (93%)]\tLoss: 0.042832\n",
      "\n",
      "Test set: Average loss: 0.0396, Accuracy: 9865/10000 (99%)\n",
      "\n",
      "Train Epoch: 15 [20480/60000 (27%)]\tLoss: 0.048230\n",
      "Train Epoch: 15 [40960/60000 (60%)]\tLoss: 0.029749\n",
      "Train Epoch: 15 [60000/60000 (93%)]\tLoss: 0.035848\n",
      "\n",
      "Test set: Average loss: 0.0369, Accuracy: 9875/10000 (99%)\n",
      "\n",
      "Train Epoch: 16 [20480/60000 (27%)]\tLoss: 0.035058\n",
      "Train Epoch: 16 [40960/60000 (60%)]\tLoss: 0.035637\n",
      "Train Epoch: 16 [60000/60000 (93%)]\tLoss: 0.038701\n",
      "\n",
      "Test set: Average loss: 0.0367, Accuracy: 9872/10000 (99%)\n",
      "\n",
      "Train Epoch: 17 [20480/60000 (27%)]\tLoss: 0.030793\n",
      "Train Epoch: 17 [40960/60000 (60%)]\tLoss: 0.035531\n",
      "Train Epoch: 17 [60000/60000 (93%)]\tLoss: 0.042421\n",
      "\n",
      "Test set: Average loss: 0.0388, Accuracy: 9865/10000 (99%)\n",
      "\n",
      "Train Epoch: 18 [20480/60000 (27%)]\tLoss: 0.033336\n",
      "Train Epoch: 18 [40960/60000 (60%)]\tLoss: 0.029525\n",
      "Train Epoch: 18 [60000/60000 (93%)]\tLoss: 0.027849\n",
      "\n",
      "Test set: Average loss: 0.0350, Accuracy: 9883/10000 (99%)\n",
      "\n",
      "Train Epoch: 19 [20480/60000 (27%)]\tLoss: 0.034900\n"
     ]
    }
   ],
   "source": [
    "for epoch in range(1, EPOCHS + 1):\n",
    "    train(model, DEVICE, train_loader, optimizer, epoch)\n",
    "    test(model, DEVICE, test_loader)"
   ]
  },
  {
   "cell_type": "markdown",
   "metadata": {},
   "source": [
    "我们看一下结果，准确率99%，没问题"
   ]
  },
  {
   "cell_type": "markdown",
   "metadata": {},
   "source": [
    "如果你的模型连MNIST都搞不定，那么你的模型没有任何的价值\n",
    "\n",
    "即使你的模型搞定了MNIST，你的模型也可能没有任何的价值\n",
    "\n",
    "MNIST是一个很简单的数据集，由于它的局限性只能作为研究用途，对实际应用带来的价值非常有限。但是通过这个例子，我们可以完全了解一个实际项目的工作流程\n",
    "\n",
    "我们找到数据集，对数据做预处理，定义我们的模型，调整超参数，测试训练，再通过训练结果对超参数进行调整或者对模型进行调整。\n",
    "\n",
    "并且通过这个实战我们已经有了一个很好的模板，以后的项目都可以以这个模板为样例"
   ]
  },
  {
   "cell_type": "code",
   "execution_count": null,
   "metadata": {},
   "outputs": [],
   "source": []
  }
 ],
 "metadata": {
  "kernelspec": {
   "display_name": "Pytorch",
   "language": "python",
   "name": "pytorch"
  },
  "language_info": {
   "codemirror_mode": {
    "name": "ipython",
    "version": 3
   },
   "file_extension": ".py",
   "mimetype": "text/x-python",
   "name": "python",
   "nbconvert_exporter": "python",
   "pygments_lexer": "ipython3",
   "version": "3.7.6"
  }
 },
 "nbformat": 4,
 "nbformat_minor": 2
}
