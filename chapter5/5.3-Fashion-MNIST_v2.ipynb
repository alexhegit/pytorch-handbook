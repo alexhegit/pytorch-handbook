{
 "cells": [
  {
   "cell_type": "code",
   "execution_count": 1,
   "metadata": {
    "ExecuteTime": {
     "end_time": "2020-02-01T08:35:16.020804Z",
     "start_time": "2020-02-01T08:35:15.475466Z"
    }
   },
   "outputs": [
    {
     "data": {
      "text/plain": [
       "'1.4.0'"
      ]
     },
     "execution_count": 1,
     "metadata": {},
     "output_type": "execute_result"
    }
   ],
   "source": [
    "import torch,math\n",
    "from pathlib import Path\n",
    "import pandas as pd\n",
    "import numpy as np\n",
    "import matplotlib.pyplot as plt  \n",
    "import torchvision.datasets as dsets\n",
    "from torch.utils.data import Dataset, DataLoader\n",
    "\n",
    "import torch.nn.functional as F\n",
    "import torch.nn as NN\n",
    "torch.__version__"
   ]
  },
  {
   "cell_type": "markdown",
   "metadata": {},
   "source": [
    "# Fashion MNIST进行分类 \n",
    "## Fashion MNIST 介绍\n",
    "Fashion MNIST数据集 是kaggle上提供的一个图像分类入门级的数据集，其中包含10个类别的70000个灰度图像。如图所示，这些图片显示的是每件衣服的低分辨率(28×28像素)\n",
    "\n",
    "数据集的下载和介绍：[地址](https://www.kaggle.com/zalando-research/fashionmnist/)\n",
    "\n",
    "\n",
    "Fashion MNIST的目标是作为经典MNIST数据的替换——通常被用作计算机视觉机器学习程序的“Hello, World”。\n",
    "\n",
    "MNIST数据集包含手写数字(0-9等)的图像，格式与我们将在这里使用的衣服相同，MNIST只有手写的0-1数据的复杂度不高，所以他只能用来做“Hello, World”\n",
    "\n",
    "而Fashion MNIST 的由于使用的是衣服的数据，比数字要复杂的多，并且图片的内容也会更加多样性，所以它是一个比常规MNIST稍微更具挑战性的问题。\n",
    "\n",
    "Fashion MNIST这个数据集相对较小，用于验证算法是否按预期工作。它们是测试和调试代码的好起点。\n",
    "\n",
    "## 数据集介绍\n",
    "\n",
    "### 分类\n",
    "```\n",
    "0 T-shirt/top\n",
    "1 Trouser\n",
    "2 Pullover\n",
    "3 Dress\n",
    "4 Coat\n",
    "5 Sandal\n",
    "6 Shirt\n",
    "7 Sneaker\n",
    "8 Bag\n",
    "9 Ankle boot \n",
    "```\n",
    "### 格式\n",
    "\n",
    "fashion-mnist_test.csv\n",
    "\n",
    "fashion-mnist_train.csv\n",
    "\n",
    "存储的训练的数据和测试的数据，格式如下：\n",
    "\n",
    "label是分类的标签\n",
    "pixel1-pixel784是每一个像素代表的值 因为是灰度图像，所以是一个0-255之间的数值。\n",
    "\n",
    "为什么是784个像素？ 28 * 28 = 784\n",
    "\n",
    "### 数据提交\n",
    "\n",
    "Fashion MNIST不需要我们进行数据的提交，数据集中已经帮助我们将 训练集和测试集分好了，我们只需要载入、训练、查看即可，所以Fashion MNIST 是一个非常好的入门级别的数据集\n"
   ]
  },
  {
   "cell_type": "code",
   "execution_count": 2,
   "metadata": {
    "ExecuteTime": {
     "end_time": "2020-02-01T08:35:16.024399Z",
     "start_time": "2020-02-01T08:35:16.022440Z"
    }
   },
   "outputs": [],
   "source": [
    "#指定数据目录\n",
    "DATA_PATH=Path('./data/')"
   ]
  },
  {
   "cell_type": "code",
   "execution_count": 3,
   "metadata": {
    "ExecuteTime": {
     "end_time": "2020-02-01T08:35:18.417157Z",
     "start_time": "2020-02-01T08:35:16.025482Z"
    },
    "scrolled": true
   },
   "outputs": [
    {
     "data": {
      "text/html": [
       "<div>\n",
       "<style scoped>\n",
       "    .dataframe tbody tr th:only-of-type {\n",
       "        vertical-align: middle;\n",
       "    }\n",
       "\n",
       "    .dataframe tbody tr th {\n",
       "        vertical-align: top;\n",
       "    }\n",
       "\n",
       "    .dataframe thead th {\n",
       "        text-align: right;\n",
       "    }\n",
       "</style>\n",
       "<table border=\"1\" class=\"dataframe\">\n",
       "  <thead>\n",
       "    <tr style=\"text-align: right;\">\n",
       "      <th></th>\n",
       "      <th>label</th>\n",
       "      <th>pixel1</th>\n",
       "      <th>pixel2</th>\n",
       "      <th>pixel3</th>\n",
       "      <th>pixel4</th>\n",
       "      <th>pixel5</th>\n",
       "      <th>pixel6</th>\n",
       "      <th>pixel7</th>\n",
       "      <th>pixel8</th>\n",
       "      <th>pixel9</th>\n",
       "      <th>...</th>\n",
       "      <th>pixel775</th>\n",
       "      <th>pixel776</th>\n",
       "      <th>pixel777</th>\n",
       "      <th>pixel778</th>\n",
       "      <th>pixel779</th>\n",
       "      <th>pixel780</th>\n",
       "      <th>pixel781</th>\n",
       "      <th>pixel782</th>\n",
       "      <th>pixel783</th>\n",
       "      <th>pixel784</th>\n",
       "    </tr>\n",
       "  </thead>\n",
       "  <tbody>\n",
       "    <tr>\n",
       "      <th>0</th>\n",
       "      <td>2</td>\n",
       "      <td>0</td>\n",
       "      <td>0</td>\n",
       "      <td>0</td>\n",
       "      <td>0</td>\n",
       "      <td>0</td>\n",
       "      <td>0</td>\n",
       "      <td>0</td>\n",
       "      <td>0</td>\n",
       "      <td>0</td>\n",
       "      <td>...</td>\n",
       "      <td>0</td>\n",
       "      <td>0</td>\n",
       "      <td>0</td>\n",
       "      <td>0</td>\n",
       "      <td>0</td>\n",
       "      <td>0</td>\n",
       "      <td>0</td>\n",
       "      <td>0</td>\n",
       "      <td>0</td>\n",
       "      <td>0</td>\n",
       "    </tr>\n",
       "    <tr>\n",
       "      <th>1</th>\n",
       "      <td>9</td>\n",
       "      <td>0</td>\n",
       "      <td>0</td>\n",
       "      <td>0</td>\n",
       "      <td>0</td>\n",
       "      <td>0</td>\n",
       "      <td>0</td>\n",
       "      <td>0</td>\n",
       "      <td>0</td>\n",
       "      <td>0</td>\n",
       "      <td>...</td>\n",
       "      <td>0</td>\n",
       "      <td>0</td>\n",
       "      <td>0</td>\n",
       "      <td>0</td>\n",
       "      <td>0</td>\n",
       "      <td>0</td>\n",
       "      <td>0</td>\n",
       "      <td>0</td>\n",
       "      <td>0</td>\n",
       "      <td>0</td>\n",
       "    </tr>\n",
       "    <tr>\n",
       "      <th>2</th>\n",
       "      <td>6</td>\n",
       "      <td>0</td>\n",
       "      <td>0</td>\n",
       "      <td>0</td>\n",
       "      <td>0</td>\n",
       "      <td>0</td>\n",
       "      <td>0</td>\n",
       "      <td>0</td>\n",
       "      <td>5</td>\n",
       "      <td>0</td>\n",
       "      <td>...</td>\n",
       "      <td>0</td>\n",
       "      <td>0</td>\n",
       "      <td>0</td>\n",
       "      <td>30</td>\n",
       "      <td>43</td>\n",
       "      <td>0</td>\n",
       "      <td>0</td>\n",
       "      <td>0</td>\n",
       "      <td>0</td>\n",
       "      <td>0</td>\n",
       "    </tr>\n",
       "    <tr>\n",
       "      <th>3</th>\n",
       "      <td>0</td>\n",
       "      <td>0</td>\n",
       "      <td>0</td>\n",
       "      <td>0</td>\n",
       "      <td>1</td>\n",
       "      <td>2</td>\n",
       "      <td>0</td>\n",
       "      <td>0</td>\n",
       "      <td>0</td>\n",
       "      <td>0</td>\n",
       "      <td>...</td>\n",
       "      <td>3</td>\n",
       "      <td>0</td>\n",
       "      <td>0</td>\n",
       "      <td>0</td>\n",
       "      <td>0</td>\n",
       "      <td>1</td>\n",
       "      <td>0</td>\n",
       "      <td>0</td>\n",
       "      <td>0</td>\n",
       "      <td>0</td>\n",
       "    </tr>\n",
       "    <tr>\n",
       "      <th>4</th>\n",
       "      <td>3</td>\n",
       "      <td>0</td>\n",
       "      <td>0</td>\n",
       "      <td>0</td>\n",
       "      <td>0</td>\n",
       "      <td>0</td>\n",
       "      <td>0</td>\n",
       "      <td>0</td>\n",
       "      <td>0</td>\n",
       "      <td>0</td>\n",
       "      <td>...</td>\n",
       "      <td>0</td>\n",
       "      <td>0</td>\n",
       "      <td>0</td>\n",
       "      <td>0</td>\n",
       "      <td>0</td>\n",
       "      <td>0</td>\n",
       "      <td>0</td>\n",
       "      <td>0</td>\n",
       "      <td>0</td>\n",
       "      <td>0</td>\n",
       "    </tr>\n",
       "    <tr>\n",
       "      <th>5</th>\n",
       "      <td>4</td>\n",
       "      <td>0</td>\n",
       "      <td>0</td>\n",
       "      <td>0</td>\n",
       "      <td>5</td>\n",
       "      <td>4</td>\n",
       "      <td>5</td>\n",
       "      <td>5</td>\n",
       "      <td>3</td>\n",
       "      <td>5</td>\n",
       "      <td>...</td>\n",
       "      <td>7</td>\n",
       "      <td>8</td>\n",
       "      <td>7</td>\n",
       "      <td>4</td>\n",
       "      <td>3</td>\n",
       "      <td>7</td>\n",
       "      <td>5</td>\n",
       "      <td>0</td>\n",
       "      <td>0</td>\n",
       "      <td>0</td>\n",
       "    </tr>\n",
       "    <tr>\n",
       "      <th>6</th>\n",
       "      <td>4</td>\n",
       "      <td>0</td>\n",
       "      <td>0</td>\n",
       "      <td>0</td>\n",
       "      <td>0</td>\n",
       "      <td>0</td>\n",
       "      <td>0</td>\n",
       "      <td>0</td>\n",
       "      <td>0</td>\n",
       "      <td>0</td>\n",
       "      <td>...</td>\n",
       "      <td>14</td>\n",
       "      <td>0</td>\n",
       "      <td>0</td>\n",
       "      <td>0</td>\n",
       "      <td>0</td>\n",
       "      <td>0</td>\n",
       "      <td>0</td>\n",
       "      <td>0</td>\n",
       "      <td>0</td>\n",
       "      <td>0</td>\n",
       "    </tr>\n",
       "    <tr>\n",
       "      <th>7</th>\n",
       "      <td>5</td>\n",
       "      <td>0</td>\n",
       "      <td>0</td>\n",
       "      <td>0</td>\n",
       "      <td>0</td>\n",
       "      <td>0</td>\n",
       "      <td>0</td>\n",
       "      <td>0</td>\n",
       "      <td>0</td>\n",
       "      <td>0</td>\n",
       "      <td>...</td>\n",
       "      <td>0</td>\n",
       "      <td>0</td>\n",
       "      <td>0</td>\n",
       "      <td>0</td>\n",
       "      <td>0</td>\n",
       "      <td>0</td>\n",
       "      <td>0</td>\n",
       "      <td>0</td>\n",
       "      <td>0</td>\n",
       "      <td>0</td>\n",
       "    </tr>\n",
       "    <tr>\n",
       "      <th>8</th>\n",
       "      <td>4</td>\n",
       "      <td>0</td>\n",
       "      <td>0</td>\n",
       "      <td>0</td>\n",
       "      <td>0</td>\n",
       "      <td>0</td>\n",
       "      <td>0</td>\n",
       "      <td>3</td>\n",
       "      <td>2</td>\n",
       "      <td>0</td>\n",
       "      <td>...</td>\n",
       "      <td>1</td>\n",
       "      <td>0</td>\n",
       "      <td>0</td>\n",
       "      <td>0</td>\n",
       "      <td>0</td>\n",
       "      <td>0</td>\n",
       "      <td>0</td>\n",
       "      <td>0</td>\n",
       "      <td>0</td>\n",
       "      <td>0</td>\n",
       "    </tr>\n",
       "    <tr>\n",
       "      <th>9</th>\n",
       "      <td>8</td>\n",
       "      <td>0</td>\n",
       "      <td>0</td>\n",
       "      <td>0</td>\n",
       "      <td>0</td>\n",
       "      <td>0</td>\n",
       "      <td>0</td>\n",
       "      <td>0</td>\n",
       "      <td>0</td>\n",
       "      <td>0</td>\n",
       "      <td>...</td>\n",
       "      <td>203</td>\n",
       "      <td>214</td>\n",
       "      <td>166</td>\n",
       "      <td>0</td>\n",
       "      <td>0</td>\n",
       "      <td>0</td>\n",
       "      <td>0</td>\n",
       "      <td>0</td>\n",
       "      <td>0</td>\n",
       "      <td>0</td>\n",
       "    </tr>\n",
       "  </tbody>\n",
       "</table>\n",
       "<p>10 rows × 785 columns</p>\n",
       "</div>"
      ],
      "text/plain": [
       "   label  pixel1  pixel2  pixel3  pixel4  pixel5  pixel6  pixel7  pixel8  \\\n",
       "0      2       0       0       0       0       0       0       0       0   \n",
       "1      9       0       0       0       0       0       0       0       0   \n",
       "2      6       0       0       0       0       0       0       0       5   \n",
       "3      0       0       0       0       1       2       0       0       0   \n",
       "4      3       0       0       0       0       0       0       0       0   \n",
       "5      4       0       0       0       5       4       5       5       3   \n",
       "6      4       0       0       0       0       0       0       0       0   \n",
       "7      5       0       0       0       0       0       0       0       0   \n",
       "8      4       0       0       0       0       0       0       3       2   \n",
       "9      8       0       0       0       0       0       0       0       0   \n",
       "\n",
       "   pixel9  ...  pixel775  pixel776  pixel777  pixel778  pixel779  pixel780  \\\n",
       "0       0  ...         0         0         0         0         0         0   \n",
       "1       0  ...         0         0         0         0         0         0   \n",
       "2       0  ...         0         0         0        30        43         0   \n",
       "3       0  ...         3         0         0         0         0         1   \n",
       "4       0  ...         0         0         0         0         0         0   \n",
       "5       5  ...         7         8         7         4         3         7   \n",
       "6       0  ...        14         0         0         0         0         0   \n",
       "7       0  ...         0         0         0         0         0         0   \n",
       "8       0  ...         1         0         0         0         0         0   \n",
       "9       0  ...       203       214       166         0         0         0   \n",
       "\n",
       "   pixel781  pixel782  pixel783  pixel784  \n",
       "0         0         0         0         0  \n",
       "1         0         0         0         0  \n",
       "2         0         0         0         0  \n",
       "3         0         0         0         0  \n",
       "4         0         0         0         0  \n",
       "5         5         0         0         0  \n",
       "6         0         0         0         0  \n",
       "7         0         0         0         0  \n",
       "8         0         0         0         0  \n",
       "9         0         0         0         0  \n",
       "\n",
       "[10 rows x 785 columns]"
      ]
     },
     "execution_count": 3,
     "metadata": {},
     "output_type": "execute_result"
    }
   ],
   "source": [
    "train = pd.read_csv(DATA_PATH / \"fashion-mnist_train.csv\");\n",
    "train.head(10)"
   ]
  },
  {
   "cell_type": "code",
   "execution_count": 4,
   "metadata": {
    "ExecuteTime": {
     "end_time": "2020-02-01T08:35:18.828065Z",
     "start_time": "2020-02-01T08:35:18.418513Z"
    }
   },
   "outputs": [
    {
     "data": {
      "text/html": [
       "<div>\n",
       "<style scoped>\n",
       "    .dataframe tbody tr th:only-of-type {\n",
       "        vertical-align: middle;\n",
       "    }\n",
       "\n",
       "    .dataframe tbody tr th {\n",
       "        vertical-align: top;\n",
       "    }\n",
       "\n",
       "    .dataframe thead th {\n",
       "        text-align: right;\n",
       "    }\n",
       "</style>\n",
       "<table border=\"1\" class=\"dataframe\">\n",
       "  <thead>\n",
       "    <tr style=\"text-align: right;\">\n",
       "      <th></th>\n",
       "      <th>label</th>\n",
       "      <th>pixel1</th>\n",
       "      <th>pixel2</th>\n",
       "      <th>pixel3</th>\n",
       "      <th>pixel4</th>\n",
       "      <th>pixel5</th>\n",
       "      <th>pixel6</th>\n",
       "      <th>pixel7</th>\n",
       "      <th>pixel8</th>\n",
       "      <th>pixel9</th>\n",
       "      <th>...</th>\n",
       "      <th>pixel775</th>\n",
       "      <th>pixel776</th>\n",
       "      <th>pixel777</th>\n",
       "      <th>pixel778</th>\n",
       "      <th>pixel779</th>\n",
       "      <th>pixel780</th>\n",
       "      <th>pixel781</th>\n",
       "      <th>pixel782</th>\n",
       "      <th>pixel783</th>\n",
       "      <th>pixel784</th>\n",
       "    </tr>\n",
       "  </thead>\n",
       "  <tbody>\n",
       "    <tr>\n",
       "      <th>0</th>\n",
       "      <td>0</td>\n",
       "      <td>0</td>\n",
       "      <td>0</td>\n",
       "      <td>0</td>\n",
       "      <td>0</td>\n",
       "      <td>0</td>\n",
       "      <td>0</td>\n",
       "      <td>0</td>\n",
       "      <td>9</td>\n",
       "      <td>8</td>\n",
       "      <td>...</td>\n",
       "      <td>103</td>\n",
       "      <td>87</td>\n",
       "      <td>56</td>\n",
       "      <td>0</td>\n",
       "      <td>0</td>\n",
       "      <td>0</td>\n",
       "      <td>0</td>\n",
       "      <td>0</td>\n",
       "      <td>0</td>\n",
       "      <td>0</td>\n",
       "    </tr>\n",
       "    <tr>\n",
       "      <th>1</th>\n",
       "      <td>1</td>\n",
       "      <td>0</td>\n",
       "      <td>0</td>\n",
       "      <td>0</td>\n",
       "      <td>0</td>\n",
       "      <td>0</td>\n",
       "      <td>0</td>\n",
       "      <td>0</td>\n",
       "      <td>0</td>\n",
       "      <td>0</td>\n",
       "      <td>...</td>\n",
       "      <td>34</td>\n",
       "      <td>0</td>\n",
       "      <td>0</td>\n",
       "      <td>0</td>\n",
       "      <td>0</td>\n",
       "      <td>0</td>\n",
       "      <td>0</td>\n",
       "      <td>0</td>\n",
       "      <td>0</td>\n",
       "      <td>0</td>\n",
       "    </tr>\n",
       "    <tr>\n",
       "      <th>2</th>\n",
       "      <td>2</td>\n",
       "      <td>0</td>\n",
       "      <td>0</td>\n",
       "      <td>0</td>\n",
       "      <td>0</td>\n",
       "      <td>0</td>\n",
       "      <td>0</td>\n",
       "      <td>14</td>\n",
       "      <td>53</td>\n",
       "      <td>99</td>\n",
       "      <td>...</td>\n",
       "      <td>0</td>\n",
       "      <td>0</td>\n",
       "      <td>0</td>\n",
       "      <td>0</td>\n",
       "      <td>63</td>\n",
       "      <td>53</td>\n",
       "      <td>31</td>\n",
       "      <td>0</td>\n",
       "      <td>0</td>\n",
       "      <td>0</td>\n",
       "    </tr>\n",
       "    <tr>\n",
       "      <th>3</th>\n",
       "      <td>2</td>\n",
       "      <td>0</td>\n",
       "      <td>0</td>\n",
       "      <td>0</td>\n",
       "      <td>0</td>\n",
       "      <td>0</td>\n",
       "      <td>0</td>\n",
       "      <td>0</td>\n",
       "      <td>0</td>\n",
       "      <td>0</td>\n",
       "      <td>...</td>\n",
       "      <td>137</td>\n",
       "      <td>126</td>\n",
       "      <td>140</td>\n",
       "      <td>0</td>\n",
       "      <td>133</td>\n",
       "      <td>224</td>\n",
       "      <td>222</td>\n",
       "      <td>56</td>\n",
       "      <td>0</td>\n",
       "      <td>0</td>\n",
       "    </tr>\n",
       "    <tr>\n",
       "      <th>4</th>\n",
       "      <td>3</td>\n",
       "      <td>0</td>\n",
       "      <td>0</td>\n",
       "      <td>0</td>\n",
       "      <td>0</td>\n",
       "      <td>0</td>\n",
       "      <td>0</td>\n",
       "      <td>0</td>\n",
       "      <td>0</td>\n",
       "      <td>0</td>\n",
       "      <td>...</td>\n",
       "      <td>0</td>\n",
       "      <td>0</td>\n",
       "      <td>0</td>\n",
       "      <td>0</td>\n",
       "      <td>0</td>\n",
       "      <td>0</td>\n",
       "      <td>0</td>\n",
       "      <td>0</td>\n",
       "      <td>0</td>\n",
       "      <td>0</td>\n",
       "    </tr>\n",
       "    <tr>\n",
       "      <th>5</th>\n",
       "      <td>2</td>\n",
       "      <td>0</td>\n",
       "      <td>0</td>\n",
       "      <td>0</td>\n",
       "      <td>0</td>\n",
       "      <td>0</td>\n",
       "      <td>44</td>\n",
       "      <td>105</td>\n",
       "      <td>44</td>\n",
       "      <td>10</td>\n",
       "      <td>...</td>\n",
       "      <td>105</td>\n",
       "      <td>64</td>\n",
       "      <td>30</td>\n",
       "      <td>0</td>\n",
       "      <td>0</td>\n",
       "      <td>0</td>\n",
       "      <td>0</td>\n",
       "      <td>0</td>\n",
       "      <td>0</td>\n",
       "      <td>0</td>\n",
       "    </tr>\n",
       "    <tr>\n",
       "      <th>6</th>\n",
       "      <td>8</td>\n",
       "      <td>0</td>\n",
       "      <td>0</td>\n",
       "      <td>0</td>\n",
       "      <td>0</td>\n",
       "      <td>0</td>\n",
       "      <td>0</td>\n",
       "      <td>0</td>\n",
       "      <td>0</td>\n",
       "      <td>0</td>\n",
       "      <td>...</td>\n",
       "      <td>0</td>\n",
       "      <td>0</td>\n",
       "      <td>0</td>\n",
       "      <td>0</td>\n",
       "      <td>0</td>\n",
       "      <td>0</td>\n",
       "      <td>0</td>\n",
       "      <td>0</td>\n",
       "      <td>0</td>\n",
       "      <td>0</td>\n",
       "    </tr>\n",
       "    <tr>\n",
       "      <th>7</th>\n",
       "      <td>6</td>\n",
       "      <td>0</td>\n",
       "      <td>0</td>\n",
       "      <td>0</td>\n",
       "      <td>0</td>\n",
       "      <td>0</td>\n",
       "      <td>0</td>\n",
       "      <td>0</td>\n",
       "      <td>1</td>\n",
       "      <td>0</td>\n",
       "      <td>...</td>\n",
       "      <td>174</td>\n",
       "      <td>136</td>\n",
       "      <td>155</td>\n",
       "      <td>31</td>\n",
       "      <td>0</td>\n",
       "      <td>1</td>\n",
       "      <td>0</td>\n",
       "      <td>0</td>\n",
       "      <td>0</td>\n",
       "      <td>0</td>\n",
       "    </tr>\n",
       "    <tr>\n",
       "      <th>8</th>\n",
       "      <td>5</td>\n",
       "      <td>0</td>\n",
       "      <td>0</td>\n",
       "      <td>0</td>\n",
       "      <td>0</td>\n",
       "      <td>0</td>\n",
       "      <td>0</td>\n",
       "      <td>0</td>\n",
       "      <td>0</td>\n",
       "      <td>0</td>\n",
       "      <td>...</td>\n",
       "      <td>0</td>\n",
       "      <td>0</td>\n",
       "      <td>0</td>\n",
       "      <td>0</td>\n",
       "      <td>0</td>\n",
       "      <td>0</td>\n",
       "      <td>0</td>\n",
       "      <td>0</td>\n",
       "      <td>0</td>\n",
       "      <td>0</td>\n",
       "    </tr>\n",
       "    <tr>\n",
       "      <th>9</th>\n",
       "      <td>0</td>\n",
       "      <td>0</td>\n",
       "      <td>0</td>\n",
       "      <td>0</td>\n",
       "      <td>0</td>\n",
       "      <td>0</td>\n",
       "      <td>0</td>\n",
       "      <td>0</td>\n",
       "      <td>0</td>\n",
       "      <td>0</td>\n",
       "      <td>...</td>\n",
       "      <td>57</td>\n",
       "      <td>70</td>\n",
       "      <td>28</td>\n",
       "      <td>0</td>\n",
       "      <td>2</td>\n",
       "      <td>0</td>\n",
       "      <td>0</td>\n",
       "      <td>0</td>\n",
       "      <td>0</td>\n",
       "      <td>0</td>\n",
       "    </tr>\n",
       "  </tbody>\n",
       "</table>\n",
       "<p>10 rows × 785 columns</p>\n",
       "</div>"
      ],
      "text/plain": [
       "   label  pixel1  pixel2  pixel3  pixel4  pixel5  pixel6  pixel7  pixel8  \\\n",
       "0      0       0       0       0       0       0       0       0       9   \n",
       "1      1       0       0       0       0       0       0       0       0   \n",
       "2      2       0       0       0       0       0       0      14      53   \n",
       "3      2       0       0       0       0       0       0       0       0   \n",
       "4      3       0       0       0       0       0       0       0       0   \n",
       "5      2       0       0       0       0       0      44     105      44   \n",
       "6      8       0       0       0       0       0       0       0       0   \n",
       "7      6       0       0       0       0       0       0       0       1   \n",
       "8      5       0       0       0       0       0       0       0       0   \n",
       "9      0       0       0       0       0       0       0       0       0   \n",
       "\n",
       "   pixel9  ...  pixel775  pixel776  pixel777  pixel778  pixel779  pixel780  \\\n",
       "0       8  ...       103        87        56         0         0         0   \n",
       "1       0  ...        34         0         0         0         0         0   \n",
       "2      99  ...         0         0         0         0        63        53   \n",
       "3       0  ...       137       126       140         0       133       224   \n",
       "4       0  ...         0         0         0         0         0         0   \n",
       "5      10  ...       105        64        30         0         0         0   \n",
       "6       0  ...         0         0         0         0         0         0   \n",
       "7       0  ...       174       136       155        31         0         1   \n",
       "8       0  ...         0         0         0         0         0         0   \n",
       "9       0  ...        57        70        28         0         2         0   \n",
       "\n",
       "   pixel781  pixel782  pixel783  pixel784  \n",
       "0         0         0         0         0  \n",
       "1         0         0         0         0  \n",
       "2        31         0         0         0  \n",
       "3       222        56         0         0  \n",
       "4         0         0         0         0  \n",
       "5         0         0         0         0  \n",
       "6         0         0         0         0  \n",
       "7         0         0         0         0  \n",
       "8         0         0         0         0  \n",
       "9         0         0         0         0  \n",
       "\n",
       "[10 rows x 785 columns]"
      ]
     },
     "execution_count": 4,
     "metadata": {},
     "output_type": "execute_result"
    }
   ],
   "source": [
    "test = pd.read_csv(DATA_PATH / \"fashion-mnist_test.csv\");\n",
    "test.head(10)"
   ]
  },
  {
   "cell_type": "code",
   "execution_count": 5,
   "metadata": {
    "ExecuteTime": {
     "end_time": "2020-02-01T08:35:18.864947Z",
     "start_time": "2020-02-01T08:35:18.829106Z"
    }
   },
   "outputs": [
    {
     "data": {
      "text/plain": [
       "label         9\n",
       "pixel1       16\n",
       "pixel2       36\n",
       "pixel3      226\n",
       "pixel4      164\n",
       "           ... \n",
       "pixel780    255\n",
       "pixel781    255\n",
       "pixel782    255\n",
       "pixel783    255\n",
       "pixel784    170\n",
       "Length: 785, dtype: int64"
      ]
     },
     "execution_count": 5,
     "metadata": {},
     "output_type": "execute_result"
    }
   ],
   "source": [
    "train.max()"
   ]
  },
  {
   "cell_type": "markdown",
   "metadata": {},
   "source": [
    "ubyte文件标识了数据的格式\n",
    "\n",
    "其中idx3的数字表示数据维度。也就是图像为3维，\n",
    "idx1 标签维1维。\n",
    "\n",
    "具体格式详解：http://yann.lecun.com/exdb/mnist/"
   ]
  },
  {
   "cell_type": "code",
   "execution_count": 6,
   "metadata": {
    "ExecuteTime": {
     "end_time": "2020-02-01T08:35:18.870117Z",
     "start_time": "2020-02-01T08:35:18.866689Z"
    }
   },
   "outputs": [
    {
     "name": "stdout",
     "output_type": "stream",
     "text": [
      "(2051, 60000, 28, 28)\n"
     ]
    }
   ],
   "source": [
    "import struct\n",
    "from PIL import Image \n",
    "\n",
    "with open(DATA_PATH / \"train-images-idx3-ubyte\", 'rb') as file_object:\n",
    "    header_data=struct.unpack(\">4I\",file_object.read(16))\n",
    "    print(header_data)"
   ]
  },
  {
   "cell_type": "code",
   "execution_count": 7,
   "metadata": {
    "ExecuteTime": {
     "end_time": "2020-02-01T08:35:18.874463Z",
     "start_time": "2020-02-01T08:35:18.871441Z"
    }
   },
   "outputs": [
    {
     "name": "stdout",
     "output_type": "stream",
     "text": [
      "(2049, 60000)\n"
     ]
    }
   ],
   "source": [
    "with open(DATA_PATH / \"train-labels-idx1-ubyte\", 'rb') as file_object:\n",
    "    header_data=struct.unpack(\">2I\",file_object.read(8))\n",
    "    print(header_data)"
   ]
  },
  {
   "cell_type": "code",
   "execution_count": 8,
   "metadata": {
    "ExecuteTime": {
     "end_time": "2020-02-01T08:35:18.974077Z",
     "start_time": "2020-02-01T08:35:18.875296Z"
    }
   },
   "outputs": [
    {
     "name": "stdout",
     "output_type": "stream",
     "text": [
      "(28, 28)\n"
     ]
    },
    {
     "data": {
      "image/png": "[encoded data removed]",
      "text/plain": [
       "<Figure size 432x288 with 1 Axes>"
      ]
     },
     "metadata": {
      "needs_background": "light"
     },
     "output_type": "display_data"
    }
   ],
   "source": [
    "with open(DATA_PATH / \"train-images-idx3-ubyte\", 'rb') as file_object:\n",
    "    raw_img = file_object.read(28*28)\n",
    "    img = struct.unpack(\">784B\",raw_img)\n",
    "    image = np.asarray(img)\n",
    "    image = image.reshape((28,28))\n",
    "    print(image.shape)\n",
    "    plt.imshow(image,cmap = plt.cm.gray)\n",
    "    plt.show()"
   ]
  },
  {
   "cell_type": "code",
   "execution_count": 9,
   "metadata": {
    "ExecuteTime": {
     "end_time": "2020-02-01T08:35:18.977914Z",
     "start_time": "2020-02-01T08:35:18.975111Z"
    }
   },
   "outputs": [
    {
     "name": "stdout",
     "output_type": "stream",
     "text": [
      "(0,)\n"
     ]
    }
   ],
   "source": [
    "with open(DATA_PATH / \"train-labels-idx1-ubyte\", 'rb') as file_object:\n",
    "    raw_img = file_object.read(1)\n",
    "    label = struct.unpack(\">B\",raw_img)\n",
    "    print(label)"
   ]
  },
  {
   "cell_type": "markdown",
   "metadata": {},
   "source": [
    "这里好像有点错误，显示的错位了，但是我的确是按照格式进行处理的。这种格式处理起来比较复杂，并且数据集中的csv直接给出了每个像素的值，所以这里我们可以直接使用csv格式的数据。"
   ]
  },
  {
   "cell_type": "markdown",
   "metadata": {},
   "source": [
    "## 数据加载\n",
    "\n",
    "为了使用pytorch的dataloader进行数据的加载，需要先创建一个自定义的dataset"
   ]
  },
  {
   "cell_type": "code",
   "execution_count": 10,
   "metadata": {
    "ExecuteTime": {
     "end_time": "2020-02-01T08:35:18.982760Z",
     "start_time": "2020-02-01T08:35:18.978741Z"
    }
   },
   "outputs": [],
   "source": [
    "class FashionMNISTDataset(Dataset):\n",
    "    def __init__(self, csv_file, transform=None):\n",
    "        data = pd.read_csv(csv_file)\n",
    "        self.X = np.array(data.iloc[:, 1:]).reshape(-1, 1, 28, 28).astype(float)\n",
    "        self.Y = np.array(data.iloc[:, 0]);\n",
    "        del data;  #结束data对数据的引用,节省空间\n",
    "        self.len=len(self.X)\n",
    "\n",
    "    def __len__(self):\n",
    "        #return len(self.X)\n",
    "        return self.len\n",
    "        \n",
    "    \n",
    "    def __getitem__(self, idx):\n",
    "        item = self.X[idx]\n",
    "        label = self.Y[idx]\n",
    "        return (item, label)"
   ]
  },
  {
   "cell_type": "markdown",
   "metadata": {},
   "source": [
    "对于自定义的数据集，只需要实现三个函数：\n",
    "\n",
    "`__init__`： 初始化函数主要用于数据的加载，这里直接使用pandas将数据读取为dataframe，然后将其转成numpy数组来进行索引\n",
    "\n",
    "`__len__`： 返回数据集的总数，pytorch里面的datalorder需要知道数据集的总数的\n",
    "\n",
    "`__getitem__`：会返回单张图片，它包含一个index，返回值为样本及其标签。\n",
    "\n",
    "创建训练和测试集"
   ]
  },
  {
   "cell_type": "code",
   "execution_count": 11,
   "metadata": {
    "ExecuteTime": {
     "end_time": "2020-02-01T08:35:21.671297Z",
     "start_time": "2020-02-01T08:35:18.983590Z"
    }
   },
   "outputs": [],
   "source": [
    "train_dataset = FashionMNISTDataset(csv_file=DATA_PATH / \"fashion-mnist_train.csv\")\n",
    "test_dataset = FashionMNISTDataset(csv_file=DATA_PATH / \"fashion-mnist_test.csv\")"
   ]
  },
  {
   "cell_type": "markdown",
   "metadata": {},
   "source": [
    "在使用Pytorch的DataLoader读取数据之前，需要指定一个batch size 这也是一个超参数，涉及到内存的使用量，如果出现OOM的错误则要减小这个数值，一般这个数值都为2的幂或者2的倍数。"
   ]
  },
  {
   "cell_type": "code",
   "execution_count": 12,
   "metadata": {
    "ExecuteTime": {
     "end_time": "2020-02-01T08:35:21.674266Z",
     "start_time": "2020-02-01T08:35:21.672336Z"
    }
   },
   "outputs": [],
   "source": [
    "#因为是常量，所以大写，需要说明的是，这些常量建议都使用完整的英文单词，减少歧义\n",
    "#BATCH_SIZE=256 # 这个batch 可以在M250的笔记本显卡中进行训练，不会oom\n",
    "BATCH_SIZE=4096"
   ]
  },
  {
   "cell_type": "markdown",
   "metadata": {},
   "source": [
    "我们接着使用dataloader模块来使用这些数据"
   ]
  },
  {
   "cell_type": "code",
   "execution_count": 13,
   "metadata": {
    "ExecuteTime": {
     "end_time": "2020-02-01T08:35:21.678410Z",
     "start_time": "2020-02-01T08:35:21.675290Z"
    }
   },
   "outputs": [],
   "source": [
    "train_loader = torch.utils.data.DataLoader(dataset=train_dataset,\n",
    "                                           batch_size=BATCH_SIZE,\n",
    "                                           shuffle=True) # shuffle 标识要打乱顺序"
   ]
  },
  {
   "cell_type": "code",
   "execution_count": 14,
   "metadata": {
    "ExecuteTime": {
     "end_time": "2020-02-01T08:35:21.682960Z",
     "start_time": "2020-02-01T08:35:21.680421Z"
    }
   },
   "outputs": [],
   "source": [
    "test_loader = torch.utils.data.DataLoader(dataset=test_dataset,\n",
    "                                           batch_size=BATCH_SIZE,\n",
    "                                           shuffle=False) # shuffle 标识要打乱顺序，测试集不需要打乱"
   ]
  },
  {
   "cell_type": "markdown",
   "metadata": {},
   "source": [
    "查看一下数据"
   ]
  },
  {
   "cell_type": "code",
   "execution_count": 15,
   "metadata": {
    "ExecuteTime": {
     "end_time": "2020-02-01T08:35:21.754900Z",
     "start_time": "2020-02-01T08:35:21.683882Z"
    }
   },
   "outputs": [
    {
     "data": {
      "text/plain": [
       "(torch.Size([1, 28, 28]), torch.Size([28, 28]))"
      ]
     },
     "execution_count": 15,
     "metadata": {},
     "output_type": "execute_result"
    }
   ],
   "source": [
    "a=iter(train_loader)\n",
    "data=next(a)\n",
    "img=data[0][0].reshape(28,28)\n",
    "data[0][0].shape,img.shape"
   ]
  },
  {
   "cell_type": "code",
   "execution_count": 16,
   "metadata": {
    "ExecuteTime": {
     "end_time": "2020-02-01T08:35:21.840132Z",
     "start_time": "2020-02-01T08:35:21.756041Z"
    }
   },
   "outputs": [
    {
     "data": {
      "image/png": "[encoded data removed]",
      "text/plain": [
       "<Figure size 432x288 with 1 Axes>"
      ]
     },
     "metadata": {
      "needs_background": "light"
     },
     "output_type": "display_data"
    }
   ],
   "source": [
    "plt.imshow(img,cmap = plt.cm.gray)\n",
    "plt.show()"
   ]
  },
  {
   "cell_type": "markdown",
   "metadata": {},
   "source": [
    "这回看着就没问题了，是一个完整的图了，所以我们还是用csv吧\n",
    "\n",
    "## 创建网络\n",
    "\n",
    "三层的简单的CNN网络"
   ]
  },
  {
   "cell_type": "code",
   "execution_count": 17,
   "metadata": {
    "ExecuteTime": {
     "end_time": "2020-02-01T08:35:21.847012Z",
     "start_time": "2020-02-01T08:35:21.841125Z"
    }
   },
   "outputs": [],
   "source": [
    "class CNN(NN.Module):\n",
    "    def __init__(self):\n",
    "        super(CNN, self).__init__()\n",
    "        self.layer1 = NN.Sequential(   \n",
    "            NN.Conv2d(1, 32, kernel_size=5, padding=2),\n",
    "            NN.BatchNorm2d(32), \n",
    "            NN.ReLU()) #32, 28, 28\n",
    "        self.pool1=NN.MaxPool2d(2) #16, 14, 14\n",
    "        self.layer2 = NN.Sequential(\n",
    "            NN.Conv2d(32, 64, kernel_size=3),\n",
    "            NN.BatchNorm2d(64),\n",
    "            NN.ReLU())#64, 12, 12\n",
    "        self.layer3 = NN.Sequential(\n",
    "            NN.Conv2d(64, 128, kernel_size=3),\n",
    "            NN.BatchNorm2d(128),\n",
    "            NN.ReLU()) #128, 10, 10\n",
    "        self.pool2=NN.MaxPool2d(2)  #128, 5, 5\n",
    "        self.fc = NN.Linear(5*5*128, 320)\n",
    "        self.fc2 = NN.Linear(320, 10)\n",
    "    def forward(self, x):\n",
    "        out = self.layer1(x)\n",
    "        #print(out.shape)\n",
    "        out=self.pool1(out)\n",
    "        #print(out.shape)\n",
    "        out = self.layer2(out)\n",
    "        #print(out.shape)\n",
    "        out=self.layer3(out)\n",
    "        #print(out.shape)\n",
    "        out=self.pool2(out)\n",
    "        #print(out.shape)\n",
    "        out = out.view(out.size(0), -1)\n",
    "        #print(out.shape)\n",
    "        out = self.fc(out)\n",
    "        out = self.fc2(out)\n",
    "        return out"
   ]
  },
  {
   "cell_type": "markdown",
   "metadata": {},
   "source": [
    "以上代码看起来很简单。这里面都是包含的数学的含义。我们只讲pytorch相关的：在函数里使用torch.nn提供的模块来定义各个层，在每个卷积层后使用了批次的归一化和RELU激活并且在每一个操作分组后面进行了pooling的操作（减少信息量，避免过拟合），后我们使用了全连接层来输出10个类别。\n",
    "\n",
    "view函数用来改变输出值矩阵的形状来匹配最后一层的维度。"
   ]
  },
  {
   "cell_type": "code",
   "execution_count": 18,
   "metadata": {
    "ExecuteTime": {
     "end_time": "2020-02-01T08:35:21.864620Z",
     "start_time": "2020-02-01T08:35:21.849138Z"
    }
   },
   "outputs": [
    {
     "data": {
      "text/plain": [
       "tensor([[ 0.2776,  0.2963,  0.4470,  0.2642, -0.3192,  0.3181, -0.4381,  0.2687,\n",
       "          0.3600, -0.2100]], grad_fn=<AddmmBackward>)"
      ]
     },
     "execution_count": 18,
     "metadata": {},
     "output_type": "execute_result"
    }
   ],
   "source": [
    "cnn = CNN();\n",
    "#可以通过以下方式验证，没报错说明没问题，\n",
    "cnn(torch.rand(1,1,28,28))"
   ]
  },
  {
   "cell_type": "code",
   "execution_count": 19,
   "metadata": {
    "ExecuteTime": {
     "end_time": "2020-02-01T08:35:21.868265Z",
     "start_time": "2020-02-01T08:35:21.866018Z"
    }
   },
   "outputs": [
    {
     "name": "stdout",
     "output_type": "stream",
     "text": [
      "CNN(\n",
      "  (layer1): Sequential(\n",
      "    (0): Conv2d(1, 32, kernel_size=(5, 5), stride=(1, 1), padding=(2, 2))\n",
      "    (1): BatchNorm2d(32, eps=1e-05, momentum=0.1, affine=True, track_running_stats=True)\n",
      "    (2): ReLU()\n",
      "  )\n",
      "  (pool1): MaxPool2d(kernel_size=2, stride=2, padding=0, dilation=1, ceil_mode=False)\n",
      "  (layer2): Sequential(\n",
      "    (0): Conv2d(32, 64, kernel_size=(3, 3), stride=(1, 1))\n",
      "    (1): BatchNorm2d(64, eps=1e-05, momentum=0.1, affine=True, track_running_stats=True)\n",
      "    (2): ReLU()\n",
      "  )\n",
      "  (layer3): Sequential(\n",
      "    (0): Conv2d(64, 128, kernel_size=(3, 3), stride=(1, 1))\n",
      "    (1): BatchNorm2d(128, eps=1e-05, momentum=0.1, affine=True, track_running_stats=True)\n",
      "    (2): ReLU()\n",
      "  )\n",
      "  (pool2): MaxPool2d(kernel_size=2, stride=2, padding=0, dilation=1, ceil_mode=False)\n",
      "  (fc): Linear(in_features=3200, out_features=320, bias=True)\n",
      "  (fc2): Linear(in_features=320, out_features=10, bias=True)\n",
      ")\n"
     ]
    }
   ],
   "source": [
    "#打印下网络，做最后的确认\n",
    "print(cnn)"
   ]
  },
  {
   "cell_type": "markdown",
   "metadata": {},
   "source": [
    "从定义模型开始就要指定模型计算的位置，CPU还是GPU，所以需要加另外一个参数"
   ]
  },
  {
   "cell_type": "code",
   "execution_count": 20,
   "metadata": {
    "ExecuteTime": {
     "end_time": "2020-02-01T08:35:21.875823Z",
     "start_time": "2020-02-01T08:35:21.869388Z"
    }
   },
   "outputs": [
    {
     "name": "stdout",
     "output_type": "stream",
     "text": [
      "cuda\n"
     ]
    }
   ],
   "source": [
    "DEVICE=torch.device(\"cpu\")\n",
    "if torch.cuda.is_available():\n",
    "        DEVICE=torch.device(\"cuda\")\n",
    "print(DEVICE)"
   ]
  },
  {
   "cell_type": "code",
   "execution_count": 21,
   "metadata": {
    "ExecuteTime": {
     "end_time": "2020-02-01T08:35:22.841750Z",
     "start_time": "2020-02-01T08:35:21.876867Z"
    }
   },
   "outputs": [],
   "source": [
    "#先把网络放到gpu上\n",
    "cnn=cnn.to(DEVICE)"
   ]
  },
  {
   "cell_type": "markdown",
   "metadata": {},
   "source": [
    "## 损失函数\n",
    "多分类因为使用Softmax回归将神经网络前向传播得到的结果变成概率分布 所以使用交叉熵损失。\n",
    "在pytorch中 \n",
    "NN.CrossEntropyLoss 是将 `nn.LogSoftmax()` 和 `nn.NLLLoss()`进行了整合，[CrossEntropyLoss](https://pytorch.org/docs/stable/nn.html#crossentropyloss) ,我们也可以分开来写使用两步计算，这里为了方便直接一步到位\n"
   ]
  },
  {
   "cell_type": "code",
   "execution_count": 22,
   "metadata": {
    "ExecuteTime": {
     "end_time": "2020-02-01T08:35:22.844918Z",
     "start_time": "2020-02-01T08:35:22.842725Z"
    }
   },
   "outputs": [],
   "source": [
    "#损失函数也需要放到GPU中\n",
    "criterion = NN.CrossEntropyLoss().to(DEVICE)"
   ]
  },
  {
   "cell_type": "markdown",
   "metadata": {},
   "source": [
    "## 优化器\n",
    "Adam 优化器：简单，暴力，最主要还是懒"
   ]
  },
  {
   "cell_type": "code",
   "execution_count": 23,
   "metadata": {
    "ExecuteTime": {
     "end_time": "2020-02-01T08:35:22.849810Z",
     "start_time": "2020-02-01T08:35:22.846421Z"
    }
   },
   "outputs": [],
   "source": [
    "#另外一个超参数，学习率\n",
    "LEARNING_RATE=0.01"
   ]
  },
  {
   "cell_type": "code",
   "execution_count": 24,
   "metadata": {
    "ExecuteTime": {
     "end_time": "2020-02-01T08:35:22.855460Z",
     "start_time": "2020-02-01T08:35:22.851226Z"
    }
   },
   "outputs": [],
   "source": [
    "#优化器不需要放GPU\n",
    "optimizer = torch.optim.Adam(cnn.parameters(), lr=LEARNING_RATE)"
   ]
  },
  {
   "cell_type": "markdown",
   "metadata": {},
   "source": [
    "## 开始训练"
   ]
  },
  {
   "cell_type": "code",
   "execution_count": 25,
   "metadata": {
    "ExecuteTime": {
     "end_time": "2020-02-01T08:35:22.858767Z",
     "start_time": "2020-02-01T08:35:22.856509Z"
    }
   },
   "outputs": [],
   "source": [
    "#另外一个超参数，指定训练批次\n",
    "TOTAL_EPOCHS=100"
   ]
  },
  {
   "cell_type": "code",
   "execution_count": 26,
   "metadata": {
    "ExecuteTime": {
     "end_time": "2020-02-01T08:41:23.855098Z",
     "start_time": "2020-02-01T08:35:22.859724Z"
    },
    "scrolled": false
   },
   "outputs": [
    {
     "name": "stdout",
     "output_type": "stream",
     "text": [
      "Epoch : 1/100, Iter : 10/14,  Loss: 14.7876\n",
      "Epoch : 2/100, Iter : 10/14,  Loss: 2.5606\n",
      "Epoch : 3/100, Iter : 10/14,  Loss: 1.0827\n",
      "Epoch : 4/100, Iter : 10/14,  Loss: 0.6936\n",
      "Epoch : 5/100, Iter : 10/14,  Loss: 0.5400\n",
      "Epoch : 6/100, Iter : 10/14,  Loss: 0.5084\n",
      "Epoch : 7/100, Iter : 10/14,  Loss: 0.4597\n",
      "Epoch : 8/100, Iter : 10/14,  Loss: 0.4653\n",
      "Epoch : 9/100, Iter : 10/14,  Loss: 0.4461\n",
      "Epoch : 10/100, Iter : 10/14,  Loss: 0.4209\n",
      "Epoch : 11/100, Iter : 10/14,  Loss: 0.3885\n",
      "Epoch : 12/100, Iter : 10/14,  Loss: 0.3989\n",
      "Epoch : 13/100, Iter : 10/14,  Loss: 0.3633\n",
      "Epoch : 14/100, Iter : 10/14,  Loss: 0.3862\n",
      "Epoch : 15/100, Iter : 10/14,  Loss: 0.3572\n",
      "Epoch : 16/100, Iter : 10/14,  Loss: 0.3484\n",
      "Epoch : 17/100, Iter : 10/14,  Loss: 0.3174\n",
      "Epoch : 18/100, Iter : 10/14,  Loss: 0.3436\n",
      "Epoch : 19/100, Iter : 10/14,  Loss: 0.3193\n",
      "Epoch : 20/100, Iter : 10/14,  Loss: 0.3268\n",
      "Epoch : 21/100, Iter : 10/14,  Loss: 0.3382\n",
      "Epoch : 22/100, Iter : 10/14,  Loss: 0.3132\n",
      "Epoch : 23/100, Iter : 10/14,  Loss: 0.3001\n",
      "Epoch : 24/100, Iter : 10/14,  Loss: 0.3255\n",
      "Epoch : 25/100, Iter : 10/14,  Loss: 0.2952\n",
      "Epoch : 26/100, Iter : 10/14,  Loss: 0.3100\n",
      "Epoch : 27/100, Iter : 10/14,  Loss: 0.3040\n",
      "Epoch : 28/100, Iter : 10/14,  Loss: 0.2976\n",
      "Epoch : 29/100, Iter : 10/14,  Loss: 0.2627\n",
      "Epoch : 30/100, Iter : 10/14,  Loss: 0.2623\n",
      "Epoch : 31/100, Iter : 10/14,  Loss: 0.2404\n",
      "Epoch : 32/100, Iter : 10/14,  Loss: 0.2526\n",
      "Epoch : 33/100, Iter : 10/14,  Loss: 0.2877\n",
      "Epoch : 34/100, Iter : 10/14,  Loss: 0.2438\n",
      "Epoch : 35/100, Iter : 10/14,  Loss: 0.2505\n",
      "Epoch : 36/100, Iter : 10/14,  Loss: 0.2441\n",
      "Epoch : 37/100, Iter : 10/14,  Loss: 0.2740\n",
      "Epoch : 38/100, Iter : 10/14,  Loss: 0.2348\n",
      "Epoch : 39/100, Iter : 10/14,  Loss: 0.2404\n",
      "Epoch : 40/100, Iter : 10/14,  Loss: 0.2335\n",
      "Epoch : 41/100, Iter : 10/14,  Loss: 0.2336\n",
      "Epoch : 42/100, Iter : 10/14,  Loss: 0.2193\n",
      "Epoch : 43/100, Iter : 10/14,  Loss: 0.2145\n",
      "Epoch : 44/100, Iter : 10/14,  Loss: 0.2019\n",
      "Epoch : 45/100, Iter : 10/14,  Loss: 0.2202\n",
      "Epoch : 46/100, Iter : 10/14,  Loss: 0.1940\n",
      "Epoch : 47/100, Iter : 10/14,  Loss: 0.2239\n",
      "Epoch : 48/100, Iter : 10/14,  Loss: 0.1919\n",
      "Epoch : 49/100, Iter : 10/14,  Loss: 0.2039\n",
      "Epoch : 50/100, Iter : 10/14,  Loss: 0.2137\n",
      "Epoch : 51/100, Iter : 10/14,  Loss: 0.2090\n",
      "Epoch : 52/100, Iter : 10/14,  Loss: 0.2337\n",
      "Epoch : 53/100, Iter : 10/14,  Loss: 0.2273\n",
      "Epoch : 54/100, Iter : 10/14,  Loss: 0.1705\n",
      "Epoch : 55/100, Iter : 10/14,  Loss: 0.1697\n",
      "Epoch : 56/100, Iter : 10/14,  Loss: 0.1878\n",
      "Epoch : 57/100, Iter : 10/14,  Loss: 0.1608\n",
      "Epoch : 58/100, Iter : 10/14,  Loss: 0.1626\n",
      "Epoch : 59/100, Iter : 10/14,  Loss: 0.1704\n",
      "Epoch : 60/100, Iter : 10/14,  Loss: 0.1940\n",
      "Epoch : 61/100, Iter : 10/14,  Loss: 0.2000\n",
      "Epoch : 62/100, Iter : 10/14,  Loss: 0.1527\n",
      "Epoch : 63/100, Iter : 10/14,  Loss: 0.1653\n",
      "Epoch : 64/100, Iter : 10/14,  Loss: 0.1398\n",
      "Epoch : 65/100, Iter : 10/14,  Loss: 0.1479\n",
      "Epoch : 66/100, Iter : 10/14,  Loss: 0.1708\n",
      "Epoch : 67/100, Iter : 10/14,  Loss: 0.1644\n",
      "Epoch : 68/100, Iter : 10/14,  Loss: 0.1589\n",
      "Epoch : 69/100, Iter : 10/14,  Loss: 0.1455\n",
      "Epoch : 70/100, Iter : 10/14,  Loss: 0.1426\n",
      "Epoch : 71/100, Iter : 10/14,  Loss: 0.1502\n",
      "Epoch : 72/100, Iter : 10/14,  Loss: 0.1334\n",
      "Epoch : 73/100, Iter : 10/14,  Loss: 0.1181\n",
      "Epoch : 74/100, Iter : 10/14,  Loss: 0.1338\n",
      "Epoch : 75/100, Iter : 10/14,  Loss: 0.1519\n",
      "Epoch : 76/100, Iter : 10/14,  Loss: 0.1236\n",
      "Epoch : 77/100, Iter : 10/14,  Loss: 0.1151\n",
      "Epoch : 78/100, Iter : 10/14,  Loss: 0.1023\n",
      "Epoch : 79/100, Iter : 10/14,  Loss: 0.1014\n",
      "Epoch : 80/100, Iter : 10/14,  Loss: 0.1367\n",
      "Epoch : 81/100, Iter : 10/14,  Loss: 0.1229\n",
      "Epoch : 82/100, Iter : 10/14,  Loss: 0.1182\n",
      "Epoch : 83/100, Iter : 10/14,  Loss: 0.1034\n",
      "Epoch : 84/100, Iter : 10/14,  Loss: 0.1300\n",
      "Epoch : 85/100, Iter : 10/14,  Loss: 0.0949\n",
      "Epoch : 86/100, Iter : 10/14,  Loss: 0.1217\n",
      "Epoch : 87/100, Iter : 10/14,  Loss: 0.0862\n",
      "Epoch : 88/100, Iter : 10/14,  Loss: 0.0817\n",
      "Epoch : 89/100, Iter : 10/14,  Loss: 0.1010\n",
      "Epoch : 90/100, Iter : 10/14,  Loss: 0.1055\n",
      "Epoch : 91/100, Iter : 10/14,  Loss: 0.1140\n",
      "Epoch : 92/100, Iter : 10/14,  Loss: 0.0812\n",
      "Epoch : 93/100, Iter : 10/14,  Loss: 0.1023\n",
      "Epoch : 94/100, Iter : 10/14,  Loss: 0.1254\n",
      "Epoch : 95/100, Iter : 10/14,  Loss: 0.0780\n",
      "Epoch : 96/100, Iter : 10/14,  Loss: 0.0750\n",
      "Epoch : 97/100, Iter : 10/14,  Loss: 0.0679\n",
      "Epoch : 98/100, Iter : 10/14,  Loss: 0.0447\n",
      "Epoch : 99/100, Iter : 10/14,  Loss: 0.0720\n",
      "Epoch : 100/100, Iter : 10/14,  Loss: 0.0523\n",
      "CPU times: user 27min 10s, sys: 3min 12s, total: 30min 22s\n",
      "Wall time: 6min\n"
     ]
    }
   ],
   "source": [
    "%%time\n",
    "#记录损失函数\n",
    "losses = [];\n",
    "for epoch in range(TOTAL_EPOCHS):\n",
    "    for i, (images, labels) in enumerate(train_loader):\n",
    "        images = images.float().to(DEVICE)\n",
    "        labels = labels.to(DEVICE)\n",
    "        #清零\n",
    "        optimizer.zero_grad()\n",
    "        outputs = cnn(images)\n",
    "        #计算损失函数\n",
    "        loss = criterion(outputs, labels)\n",
    "        loss.backward()\n",
    "        optimizer.step()\n",
    "        losses.append(loss.cpu().data.item());\n",
    "        if (i+1) % 10 == 0:\n",
    "            print ('Epoch : %d/%d, Iter : %d/%d,  Loss: %.4f'%(epoch+1, TOTAL_EPOCHS, i+1, len(train_dataset)//BATCH_SIZE, loss.data.item()))\n",
    "            "
   ]
  },
  {
   "cell_type": "markdown",
   "metadata": {},
   "source": [
    "## 训练后操作\n",
    "### 可视化损失函数"
   ]
  },
  {
   "cell_type": "code",
   "execution_count": 27,
   "metadata": {
    "ExecuteTime": {
     "end_time": "2020-02-01T08:41:23.992851Z",
     "start_time": "2020-02-01T08:41:23.856378Z"
    }
   },
   "outputs": [
    {
     "name": "stderr",
     "output_type": "stream",
     "text": [
      "findfont: Font family ['xkcd', 'xkcd Script', 'Humor Sans', 'Comic Sans MS'] not found. Falling back to DejaVu Sans.\n"
     ]
    },
    {
     "data": {
      "image/png": "[encoded data removed]",
      "text/plain": [
       "<Figure size 432x288 with 1 Axes>"
      ]
     },
     "metadata": {},
     "output_type": "display_data"
    }
   ],
   "source": [
    "plt.xkcd();\n",
    "plt.xlabel('Epoch #');\n",
    "plt.ylabel('Loss');\n",
    "plt.plot(losses);\n",
    "plt.show();"
   ]
  },
  {
   "cell_type": "markdown",
   "metadata": {},
   "source": [
    "### 保存模型 "
   ]
  },
  {
   "cell_type": "code",
   "execution_count": 28,
   "metadata": {
    "ExecuteTime": {
     "end_time": "2020-02-01T08:41:24.004012Z",
     "start_time": "2020-02-01T08:41:23.993951Z"
    }
   },
   "outputs": [],
   "source": [
    "torch.save(cnn.state_dict(), \"fm-cnn3.pth\")\n",
    "# 加载用这个\n",
    "#cnn.load_state_dict(torch.load(\"fm-cnn3.pth\"))"
   ]
  },
  {
   "cell_type": "markdown",
   "metadata": {},
   "source": [
    "## 模型评估\n",
    "\n",
    "模型评估就是使用测试集对模型进行的评估，应该是添加到训练中进行了，这里为了方便说明直接在训练完成后评估了"
   ]
  },
  {
   "cell_type": "code",
   "execution_count": 29,
   "metadata": {
    "ExecuteTime": {
     "end_time": "2020-02-01T08:41:24.222067Z",
     "start_time": "2020-02-01T08:41:24.005109Z"
    }
   },
   "outputs": [
    {
     "name": "stdout",
     "output_type": "stream",
     "text": [
      "准确率: 91.0000 %\n"
     ]
    }
   ],
   "source": [
    "cnn.eval()\n",
    "correct = 0\n",
    "total = 0\n",
    "for images, labels in test_loader:\n",
    "    images = images.float().to(DEVICE)\n",
    "    outputs = cnn(images).cpu()\n",
    "    _, predicted = torch.max(outputs.data, 1)\n",
    "    total += labels.size(0)\n",
    "    correct += (predicted == labels).sum()\n",
    "print('准确率: %.4f %%' % (100 * correct / total))"
   ]
  },
  {
   "cell_type": "markdown",
   "metadata": {},
   "source": [
    "模型评估的步骤如下：\n",
    "1. 将网络的模式改为eval。\n",
    "2. 将图片输入到网络中得到输出。\n",
    "3. 通过取出one-hot输出的最大值来得到输出的 标签。\n",
    "4. 统计正确的预测值。"
   ]
  },
  {
   "cell_type": "markdown",
   "metadata": {},
   "source": [
    "## 进一步优化"
   ]
  },
  {
   "cell_type": "code",
   "execution_count": 30,
   "metadata": {
    "ExecuteTime": {
     "end_time": "2020-02-01T08:45:13.070449Z",
     "start_time": "2020-02-01T08:41:24.223420Z"
    }
   },
   "outputs": [
    {
     "name": "stdout",
     "output_type": "stream",
     "text": [
      "Epoch : 1/80, Iter : 10/14,  Loss: 0.0807\n",
      "Epoch : 2/80, Iter : 10/14,  Loss: 0.0417\n",
      "Epoch : 3/80, Iter : 10/14,  Loss: 0.0286\n",
      "Epoch : 4/80, Iter : 10/14,  Loss: 0.0306\n",
      "Epoch : 5/80, Iter : 10/14,  Loss: 0.0266\n",
      "Epoch : 6/80, Iter : 10/14,  Loss: 0.0255\n",
      "Epoch : 7/80, Iter : 10/14,  Loss: 0.0223\n",
      "Epoch : 8/80, Iter : 10/14,  Loss: 0.0221\n",
      "Epoch : 9/80, Iter : 10/14,  Loss: 0.0195\n",
      "Epoch : 10/80, Iter : 10/14,  Loss: 0.0179\n",
      "Epoch : 11/80, Iter : 10/14,  Loss: 0.0172\n",
      "Epoch : 12/80, Iter : 10/14,  Loss: 0.0122\n",
      "Epoch : 13/80, Iter : 10/14,  Loss: 0.0145\n",
      "Epoch : 14/80, Iter : 10/14,  Loss: 0.0138\n",
      "Epoch : 15/80, Iter : 10/14,  Loss: 0.0180\n",
      "Epoch : 16/80, Iter : 10/14,  Loss: 0.0138\n",
      "Epoch : 17/80, Iter : 10/14,  Loss: 0.0132\n",
      "Epoch : 18/80, Iter : 10/14,  Loss: 0.0106\n",
      "Epoch : 19/80, Iter : 10/14,  Loss: 0.0074\n",
      "Epoch : 20/80, Iter : 10/14,  Loss: 0.0073\n",
      "Epoch : 21/80, Iter : 10/14,  Loss: 0.0073\n",
      "Epoch : 22/80, Iter : 10/14,  Loss: 0.0055\n",
      "Epoch : 23/80, Iter : 10/14,  Loss: 0.0063\n",
      "Epoch : 24/80, Iter : 10/14,  Loss: 0.0063\n",
      "Epoch : 25/80, Iter : 10/14,  Loss: 0.0051\n",
      "Epoch : 26/80, Iter : 10/14,  Loss: 0.0048\n",
      "Epoch : 27/80, Iter : 10/14,  Loss: 0.0050\n",
      "Epoch : 28/80, Iter : 10/14,  Loss: 0.0042\n",
      "Epoch : 29/80, Iter : 10/14,  Loss: 0.0049\n",
      "Epoch : 30/80, Iter : 10/14,  Loss: 0.0034\n",
      "Epoch : 31/80, Iter : 10/14,  Loss: 0.0032\n",
      "Epoch : 32/80, Iter : 10/14,  Loss: 0.0036\n",
      "Epoch : 33/80, Iter : 10/14,  Loss: 0.0023\n",
      "Epoch : 34/80, Iter : 10/14,  Loss: 0.0023\n",
      "Epoch : 35/80, Iter : 10/14,  Loss: 0.0021\n",
      "Epoch : 36/80, Iter : 10/14,  Loss: 0.0016\n",
      "Epoch : 37/80, Iter : 10/14,  Loss: 0.0022\n",
      "Epoch : 38/80, Iter : 10/14,  Loss: 0.0016\n",
      "Epoch : 39/80, Iter : 10/14,  Loss: 0.0015\n",
      "Epoch : 40/80, Iter : 10/14,  Loss: 0.0016\n",
      "Epoch : 41/80, Iter : 10/14,  Loss: 0.0016\n",
      "Epoch : 42/80, Iter : 10/14,  Loss: 0.0012\n",
      "Epoch : 43/80, Iter : 10/14,  Loss: 0.0012\n",
      "Epoch : 44/80, Iter : 10/14,  Loss: 0.0012\n",
      "Epoch : 45/80, Iter : 10/14,  Loss: 0.0012\n",
      "Epoch : 46/80, Iter : 10/14,  Loss: 0.0010\n",
      "Epoch : 47/80, Iter : 10/14,  Loss: 0.0010\n",
      "Epoch : 48/80, Iter : 10/14,  Loss: 0.0009\n",
      "Epoch : 49/80, Iter : 10/14,  Loss: 0.0009\n",
      "Epoch : 50/80, Iter : 10/14,  Loss: 0.0008\n",
      "Epoch : 51/80, Iter : 10/14,  Loss: 0.0007\n",
      "Epoch : 52/80, Iter : 10/14,  Loss: 0.0007\n",
      "Epoch : 53/80, Iter : 10/14,  Loss: 0.0008\n",
      "Epoch : 54/80, Iter : 10/14,  Loss: 0.0007\n",
      "Epoch : 55/80, Iter : 10/14,  Loss: 0.0007\n",
      "Epoch : 56/80, Iter : 10/14,  Loss: 0.0006\n",
      "Epoch : 57/80, Iter : 10/14,  Loss: 0.0005\n",
      "Epoch : 58/80, Iter : 10/14,  Loss: 0.0006\n",
      "Epoch : 59/80, Iter : 10/14,  Loss: 0.0006\n",
      "Epoch : 60/80, Iter : 10/14,  Loss: 0.0005\n",
      "Epoch : 61/80, Iter : 10/14,  Loss: 0.0005\n",
      "Epoch : 62/80, Iter : 10/14,  Loss: 0.0006\n",
      "Epoch : 63/80, Iter : 10/14,  Loss: 0.0005\n",
      "Epoch : 64/80, Iter : 10/14,  Loss: 0.0004\n",
      "Epoch : 65/80, Iter : 10/14,  Loss: 0.0005\n",
      "Epoch : 66/80, Iter : 10/14,  Loss: 0.0005\n",
      "Epoch : 67/80, Iter : 10/14,  Loss: 0.0004\n",
      "Epoch : 68/80, Iter : 10/14,  Loss: 0.0005\n",
      "Epoch : 69/80, Iter : 10/14,  Loss: 0.0004\n",
      "Epoch : 70/80, Iter : 10/14,  Loss: 0.0004\n",
      "Epoch : 71/80, Iter : 10/14,  Loss: 0.0004\n",
      "Epoch : 72/80, Iter : 10/14,  Loss: 0.0004\n",
      "Epoch : 73/80, Iter : 10/14,  Loss: 0.0004\n",
      "Epoch : 74/80, Iter : 10/14,  Loss: 0.0003\n",
      "Epoch : 75/80, Iter : 10/14,  Loss: 0.0003\n",
      "Epoch : 76/80, Iter : 10/14,  Loss: 0.0003\n",
      "Epoch : 77/80, Iter : 10/14,  Loss: 0.0003\n",
      "Epoch : 78/80, Iter : 10/14,  Loss: 0.0003\n",
      "Epoch : 79/80, Iter : 10/14,  Loss: 0.0003\n",
      "Epoch : 80/80, Iter : 10/14,  Loss: 0.0003\n",
      "CPU times: user 20min 35s, sys: 1min 55s, total: 22min 30s\n",
      "Wall time: 3min 48s\n"
     ]
    }
   ],
   "source": [
    "%%time\n",
    "#修改学习率和批次\n",
    "cnn.train()\n",
    "LEARNING_RATE=LEARNING_RATE / 10\n",
    "TOTAL_EPOCHS=80\n",
    "optimizer = torch.optim.Adam(cnn.parameters(), lr=LEARNING_RATE)\n",
    "losses = [];\n",
    "for epoch in range(TOTAL_EPOCHS):\n",
    "    for i, (images, labels) in enumerate(train_loader):\n",
    "        images = images.float().to(DEVICE)\n",
    "        labels = labels.to(DEVICE)\n",
    "        #清零\n",
    "        optimizer.zero_grad()\n",
    "        outputs = cnn(images)\n",
    "        #计算损失函数\n",
    "        #损失函数直接放到CPU中，因为还有其他的计算\n",
    "        loss = criterion(outputs, labels).cpu()\n",
    "        loss.backward()\n",
    "        optimizer.step()\n",
    "        losses.append(loss.data.item());\n",
    "        if (i+1) % 10 == 0:\n",
    "            print ('Epoch : %d/%d, Iter : %d/%d,  Loss: %.4f'%(epoch+1, TOTAL_EPOCHS, i+1, len(train_dataset)//BATCH_SIZE, loss.data.item()))\n",
    "            "
   ]
  },
  {
   "cell_type": "markdown",
   "metadata": {},
   "source": [
    "可视化一下损失"
   ]
  },
  {
   "cell_type": "code",
   "execution_count": 31,
   "metadata": {
    "ExecuteTime": {
     "end_time": "2020-02-01T08:45:13.204350Z",
     "start_time": "2020-02-01T08:45:13.071907Z"
    }
   },
   "outputs": [
    {
     "data": {
      "image/png": "[encoded data removed]",
      "text/plain": [
       "<Figure size 432x288 with 1 Axes>"
      ]
     },
     "metadata": {},
     "output_type": "display_data"
    }
   ],
   "source": [
    "plt.xkcd();\n",
    "plt.xlabel('Epoch #');\n",
    "plt.ylabel('Loss');\n",
    "plt.plot(losses);\n",
    "plt.show();"
   ]
  },
  {
   "cell_type": "markdown",
   "metadata": {},
   "source": [
    "## 再次进行评估"
   ]
  },
  {
   "cell_type": "code",
   "execution_count": 32,
   "metadata": {
    "ExecuteTime": {
     "end_time": "2020-02-01T08:45:13.462066Z",
     "start_time": "2020-02-01T08:45:13.205465Z"
    }
   },
   "outputs": [
    {
     "name": "stdout",
     "output_type": "stream",
     "text": [
      "准确率: 92.0000 %\n"
     ]
    }
   ],
   "source": [
    "cnn.eval()\n",
    "correct = 0\n",
    "total = 0\n",
    "for images, labels in test_loader:\n",
    "    images = images.float().to(DEVICE)\n",
    "    outputs = cnn(images).cpu()\n",
    "    _, predicted = torch.max(outputs.data, 1)\n",
    "    total += labels.size(0)\n",
    "    correct += (predicted == labels).sum()\n",
    "print('准确率: %.4f %%' % (100 * correct / total))"
   ]
  },
  {
   "cell_type": "code",
   "execution_count": 33,
   "metadata": {
    "ExecuteTime": {
     "end_time": "2020-02-01T08:48:15.675996Z",
     "start_time": "2020-02-01T08:45:13.463332Z"
    }
   },
   "outputs": [
    {
     "name": "stdout",
     "output_type": "stream",
     "text": [
      "Epoch : 1/50, Iter : 10/14,  Loss: 0.000482\n",
      "Epoch : 2/50, Iter : 10/14,  Loss: 0.000348\n",
      "Epoch : 3/50, Iter : 10/14,  Loss: 0.000239\n",
      "Epoch : 4/50, Iter : 10/14,  Loss: 0.000244\n",
      "Epoch : 5/50, Iter : 10/14,  Loss: 0.000239\n",
      "Epoch : 6/50, Iter : 10/14,  Loss: 0.000202\n",
      "Epoch : 7/50, Iter : 10/14,  Loss: 0.000222\n",
      "Epoch : 8/50, Iter : 10/14,  Loss: 0.000230\n",
      "Epoch : 9/50, Iter : 10/14,  Loss: 0.000199\n",
      "Epoch : 10/50, Iter : 10/14,  Loss: 0.000203\n",
      "Epoch : 11/50, Iter : 10/14,  Loss: 0.000182\n",
      "Epoch : 12/50, Iter : 10/14,  Loss: 0.000196\n",
      "Epoch : 13/50, Iter : 10/14,  Loss: 0.000178\n",
      "Epoch : 14/50, Iter : 10/14,  Loss: 0.000187\n",
      "Epoch : 15/50, Iter : 10/14,  Loss: 0.000167\n",
      "Epoch : 16/50, Iter : 10/14,  Loss: 0.000148\n",
      "Epoch : 17/50, Iter : 10/14,  Loss: 0.000154\n",
      "Epoch : 18/50, Iter : 10/14,  Loss: 0.000146\n",
      "Epoch : 19/50, Iter : 10/14,  Loss: 0.000132\n",
      "Epoch : 20/50, Iter : 10/14,  Loss: 0.000130\n",
      "Epoch : 21/50, Iter : 10/14,  Loss: 0.000129\n",
      "Epoch : 22/50, Iter : 10/14,  Loss: 0.000112\n",
      "Epoch : 23/50, Iter : 10/14,  Loss: 0.000119\n",
      "Epoch : 24/50, Iter : 10/14,  Loss: 0.000114\n",
      "Epoch : 25/50, Iter : 10/14,  Loss: 0.000118\n",
      "Epoch : 26/50, Iter : 10/14,  Loss: 0.000103\n",
      "Epoch : 27/50, Iter : 10/14,  Loss: 0.000111\n",
      "Epoch : 28/50, Iter : 10/14,  Loss: 0.000103\n",
      "Epoch : 29/50, Iter : 10/14,  Loss: 0.000108\n",
      "Epoch : 30/50, Iter : 10/14,  Loss: 0.000086\n",
      "Epoch : 31/50, Iter : 10/14,  Loss: 0.000085\n",
      "Epoch : 32/50, Iter : 10/14,  Loss: 0.000084\n",
      "Epoch : 33/50, Iter : 10/14,  Loss: 0.000096\n",
      "Epoch : 34/50, Iter : 10/14,  Loss: 0.000084\n",
      "Epoch : 35/50, Iter : 10/14,  Loss: 0.000074\n",
      "Epoch : 36/50, Iter : 10/14,  Loss: 0.000079\n",
      "Epoch : 37/50, Iter : 10/14,  Loss: 0.000075\n",
      "Epoch : 38/50, Iter : 10/14,  Loss: 0.000079\n",
      "Epoch : 39/50, Iter : 10/14,  Loss: 0.000074\n",
      "Epoch : 40/50, Iter : 10/14,  Loss: 0.000080\n",
      "Epoch : 41/50, Iter : 10/14,  Loss: 0.000069\n",
      "Epoch : 42/50, Iter : 10/14,  Loss: 0.000063\n",
      "Epoch : 43/50, Iter : 10/14,  Loss: 0.000068\n",
      "Epoch : 44/50, Iter : 10/14,  Loss: 0.000067\n",
      "Epoch : 45/50, Iter : 10/14,  Loss: 0.000060\n",
      "Epoch : 46/50, Iter : 10/14,  Loss: 0.000053\n",
      "Epoch : 47/50, Iter : 10/14,  Loss: 0.000061\n",
      "Epoch : 48/50, Iter : 10/14,  Loss: 0.000072\n",
      "Epoch : 49/50, Iter : 10/14,  Loss: 0.000052\n",
      "Epoch : 50/50, Iter : 10/14,  Loss: 0.000062\n",
      "CPU times: user 13min 38s, sys: 1min 35s, total: 15min 14s\n",
      "Wall time: 3min 2s\n"
     ]
    }
   ],
   "source": [
    "%%time\n",
    "#修改学习率和批次\n",
    "cnn.train()\n",
    "LEARNING_RATE=LEARNING_RATE / 10\n",
    "TOTAL_EPOCHS=50\n",
    "optimizer = torch.optim.Adam(cnn.parameters(), lr=LEARNING_RATE)\n",
    "losses = [];\n",
    "for epoch in range(TOTAL_EPOCHS):\n",
    "    for i, (images, labels) in enumerate(train_loader):\n",
    "        images = images.float().to(DEVICE)\n",
    "        labels = labels.to(DEVICE)\n",
    "        #清零\n",
    "        optimizer.zero_grad()\n",
    "        outputs = cnn(images)\n",
    "        #计算损失函数\n",
    "        #损失函数直接放到CPU中，因为还有其他的计算\n",
    "        loss = criterion(outputs, labels)\n",
    "        loss.backward()\n",
    "        optimizer.step()\n",
    "        losses.append(loss.cpu().data.item());\n",
    "        if (i+1) % 10 == 0:\n",
    "            print ('Epoch : %d/%d, Iter : %d/%d,  Loss: %.6f'%(epoch+1, TOTAL_EPOCHS, i+1, len(train_dataset)//BATCH_SIZE, loss.data.item()))\n",
    "            "
   ]
  },
  {
   "cell_type": "code",
   "execution_count": 34,
   "metadata": {
    "ExecuteTime": {
     "end_time": "2020-02-01T08:48:15.797989Z",
     "start_time": "2020-02-01T08:48:15.677628Z"
    }
   },
   "outputs": [
    {
     "data": {
      "image/png": "[encoded data removed]",
      "text/plain": [
       "<Figure size 432x288 with 1 Axes>"
      ]
     },
     "metadata": {},
     "output_type": "display_data"
    }
   ],
   "source": [
    "plt.xkcd();\n",
    "plt.xlabel('Epoch #');\n",
    "plt.ylabel('Loss');\n",
    "plt.plot(losses);\n",
    "plt.show();"
   ]
  },
  {
   "cell_type": "code",
   "execution_count": 35,
   "metadata": {
    "ExecuteTime": {
     "end_time": "2020-02-01T08:48:16.010896Z",
     "start_time": "2020-02-01T08:48:15.799141Z"
    }
   },
   "outputs": [
    {
     "name": "stdout",
     "output_type": "stream",
     "text": [
      "准确率: 92.0000 %\n"
     ]
    }
   ],
   "source": [
    "cnn.eval()\n",
    "correct = 0\n",
    "total = 0\n",
    "for images, labels in test_loader:\n",
    "    images = images.float().to(DEVICE)\n",
    "    outputs = cnn(images).cpu()\n",
    "    _, predicted = torch.max(outputs.data, 1)\n",
    "    total += labels.size(0)\n",
    "    correct += (predicted == labels).sum()\n",
    "print('准确率: %.4f %%' % (100 * correct / total))"
   ]
  },
  {
   "cell_type": "markdown",
   "metadata": {},
   "source": [
    "损失小了，但是准确率没有提高，这就说明已经接近模型的瓶颈了，如果再要进行优化，就需要修改模型了。另外还有一个判断模型是否到瓶颈的标准，就是看损失函数，最后一次的训练的损失函数明显的没有下降的趋势，只是在震荡，这说明已经没有什么优化的空间了。\n",
    "\n",
    "通过简单的操作，我们也能够看到Adam优化器的暴力性，我们只要简单的修改学习率就能够达到优化的效果，Adam优化器的使用一般情况下是首先使用0.1进行预热，然后再用0.01进行大批次的训练，最后使用0.001这个学习率进行收尾，再小的学习率一般情况就不需要了。\n",
    "\n",
    "## 总结\n",
    "最后我们再总结一下几个超参数:\n",
    "\n",
    "`BATCH_SIZE`: 批次数量，定义每次训练时多少数据作为一批，这个批次需要在dataloader初始化时进行设置，并且需要这对模型和显存进行配置，如果出现OOM有线减小，一般设为2的倍数\n",
    "\n",
    "`DEVICE`：进行计算的设备，主要是CPU还是GPU\n",
    "\n",
    "`LEARNING_RATE`：学习率，反向传播时使用\n",
    "\n",
    "`TOTAL_EPOCHS`：训练的批次，一般情况下会根据损失和准确率等阈值\n",
    "\n",
    "其实优化器和损失函数也算超参数，这里就不说了"
   ]
  },
  {
   "cell_type": "code",
   "execution_count": 36,
   "metadata": {
    "ExecuteTime": {
     "end_time": "2020-02-01T08:52:59.279702Z",
     "start_time": "2020-02-01T08:49:58.267290Z"
    }
   },
   "outputs": [
    {
     "name": "stdout",
     "output_type": "stream",
     "text": [
      "Epoch : 1/50, Iter : 10/14,  Loss: 0.000050\n",
      "Epoch : 2/50, Iter : 10/14,  Loss: 0.000050\n",
      "Epoch : 3/50, Iter : 10/14,  Loss: 0.000049\n",
      "Epoch : 4/50, Iter : 10/14,  Loss: 0.000045\n",
      "Epoch : 5/50, Iter : 10/14,  Loss: 0.000048\n",
      "Epoch : 6/50, Iter : 10/14,  Loss: 0.000046\n",
      "Epoch : 7/50, Iter : 10/14,  Loss: 0.000047\n",
      "Epoch : 8/50, Iter : 10/14,  Loss: 0.000045\n",
      "Epoch : 9/50, Iter : 10/14,  Loss: 0.000044\n",
      "Epoch : 10/50, Iter : 10/14,  Loss: 0.000045\n",
      "Epoch : 11/50, Iter : 10/14,  Loss: 0.000045\n",
      "Epoch : 12/50, Iter : 10/14,  Loss: 0.000046\n",
      "Epoch : 13/50, Iter : 10/14,  Loss: 0.000044\n",
      "Epoch : 14/50, Iter : 10/14,  Loss: 0.000047\n",
      "Epoch : 15/50, Iter : 10/14,  Loss: 0.000044\n",
      "Epoch : 16/50, Iter : 10/14,  Loss: 0.000045\n",
      "Epoch : 17/50, Iter : 10/14,  Loss: 0.000052\n",
      "Epoch : 18/50, Iter : 10/14,  Loss: 0.000040\n",
      "Epoch : 19/50, Iter : 10/14,  Loss: 0.000040\n",
      "Epoch : 20/50, Iter : 10/14,  Loss: 0.000041\n",
      "Epoch : 21/50, Iter : 10/14,  Loss: 0.000047\n",
      "Epoch : 22/50, Iter : 10/14,  Loss: 0.000041\n",
      "Epoch : 23/50, Iter : 10/14,  Loss: 0.000036\n",
      "Epoch : 24/50, Iter : 10/14,  Loss: 0.000043\n",
      "Epoch : 25/50, Iter : 10/14,  Loss: 0.000037\n",
      "Epoch : 26/50, Iter : 10/14,  Loss: 0.000044\n",
      "Epoch : 27/50, Iter : 10/14,  Loss: 0.000037\n",
      "Epoch : 28/50, Iter : 10/14,  Loss: 0.000040\n",
      "Epoch : 29/50, Iter : 10/14,  Loss: 0.000039\n",
      "Epoch : 30/50, Iter : 10/14,  Loss: 0.000041\n",
      "Epoch : 31/50, Iter : 10/14,  Loss: 0.000040\n",
      "Epoch : 32/50, Iter : 10/14,  Loss: 0.000040\n",
      "Epoch : 33/50, Iter : 10/14,  Loss: 0.000044\n",
      "Epoch : 34/50, Iter : 10/14,  Loss: 0.000035\n",
      "Epoch : 35/50, Iter : 10/14,  Loss: 0.000042\n",
      "Epoch : 36/50, Iter : 10/14,  Loss: 0.000038\n",
      "Epoch : 37/50, Iter : 10/14,  Loss: 0.000036\n",
      "Epoch : 38/50, Iter : 10/14,  Loss: 0.000038\n",
      "Epoch : 39/50, Iter : 10/14,  Loss: 0.000038\n",
      "Epoch : 40/50, Iter : 10/14,  Loss: 0.000036\n",
      "Epoch : 41/50, Iter : 10/14,  Loss: 0.000036\n",
      "Epoch : 42/50, Iter : 10/14,  Loss: 0.000037\n",
      "Epoch : 43/50, Iter : 10/14,  Loss: 0.000031\n",
      "Epoch : 44/50, Iter : 10/14,  Loss: 0.000031\n",
      "Epoch : 45/50, Iter : 10/14,  Loss: 0.000032\n",
      "Epoch : 46/50, Iter : 10/14,  Loss: 0.000033\n",
      "Epoch : 47/50, Iter : 10/14,  Loss: 0.000030\n",
      "Epoch : 48/50, Iter : 10/14,  Loss: 0.000032\n",
      "Epoch : 49/50, Iter : 10/14,  Loss: 0.000033\n",
      "Epoch : 50/50, Iter : 10/14,  Loss: 0.000032\n",
      "CPU times: user 13min 36s, sys: 1min 36s, total: 15min 12s\n",
      "Wall time: 3min 1s\n"
     ]
    }
   ],
   "source": [
    "%%time\n",
    "#修改学习率和批次\n",
    "cnn.train()\n",
    "LEARNING_RATE=LEARNING_RATE / 10\n",
    "TOTAL_EPOCHS=50\n",
    "optimizer = torch.optim.Adam(cnn.parameters(), lr=LEARNING_RATE)\n",
    "losses = [];\n",
    "for epoch in range(TOTAL_EPOCHS):\n",
    "    for i, (images, labels) in enumerate(train_loader):\n",
    "        images = images.float().to(DEVICE)\n",
    "        labels = labels.to(DEVICE)\n",
    "        #清零\n",
    "        optimizer.zero_grad()\n",
    "        outputs = cnn(images)\n",
    "        #计算损失函数\n",
    "        #损失函数直接放到CPU中，因为还有其他的计算\n",
    "        loss = criterion(outputs, labels)\n",
    "        loss.backward()\n",
    "        optimizer.step()\n",
    "        losses.append(loss.cpu().data.item());\n",
    "        if (i+1) % 10 == 0:\n",
    "            print ('Epoch : %d/%d, Iter : %d/%d,  Loss: %.6f'%(epoch+1, TOTAL_EPOCHS, i+1, len(train_dataset)//BATCH_SIZE, loss.data.item()))\n",
    "            "
   ]
  },
  {
   "cell_type": "code",
   "execution_count": 37,
   "metadata": {
    "ExecuteTime": {
     "end_time": "2020-02-01T08:52:59.413869Z",
     "start_time": "2020-02-01T08:52:59.281169Z"
    }
   },
   "outputs": [
    {
     "data": {
      "image/png": "[encoded data removed]",
      "text/plain": [
       "<Figure size 432x288 with 1 Axes>"
      ]
     },
     "metadata": {},
     "output_type": "display_data"
    }
   ],
   "source": [
    "plt.xkcd();\n",
    "plt.xlabel('Epoch #');\n",
    "plt.ylabel('Loss');\n",
    "plt.plot(losses);\n",
    "plt.show();"
   ]
  },
  {
   "cell_type": "code",
   "execution_count": 39,
   "metadata": {
    "ExecuteTime": {
     "end_time": "2020-02-01T08:53:45.441316Z",
     "start_time": "2020-02-01T08:53:45.233151Z"
    }
   },
   "outputs": [
    {
     "name": "stdout",
     "output_type": "stream",
     "text": [
      "准确率: 92.080002 %\n"
     ]
    }
   ],
   "source": [
    "cnn.eval()\n",
    "correct = 0\n",
    "total = 0\n",
    "for images, labels in test_loader:\n",
    "    images = images.float().to(DEVICE)\n",
    "    outputs = cnn(images).cpu()\n",
    "    _, predicted = torch.max(outputs.data, 1)\n",
    "    total += labels.size(0)\n",
    "    correct += (predicted == labels).sum()\n",
    "print('准确率: %.6f %%' % (100.0 * correct / total))"
   ]
  },
  {
   "cell_type": "code",
   "execution_count": null,
   "metadata": {},
   "outputs": [],
   "source": []
  }
 ],
 "metadata": {
  "kernelspec": {
   "display_name": "pytorch",
   "language": "python",
   "name": "pytorch"
  },
  "language_info": {
   "codemirror_mode": {
    "name": "ipython",
    "version": 3
   },
   "file_extension": ".py",
   "mimetype": "text/x-python",
   "name": "python",
   "nbconvert_exporter": "python",
   "pygments_lexer": "ipython3",
   "version": "3.7.6"
  }
 },
 "nbformat": 4,
 "nbformat_minor": 2
}
